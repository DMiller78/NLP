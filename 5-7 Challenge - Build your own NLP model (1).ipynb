{
 "cells": [
  {
   "cell_type": "markdown",
   "metadata": {},
   "source": [
    "# NLP Whitman and Blake"
   ]
  },
  {
   "cell_type": "code",
   "execution_count": 1,
   "metadata": {},
   "outputs": [
    {
     "name": "stderr",
     "output_type": "stream",
     "text": [
      "C:\\Users\\mille\\Conda3\\lib\\site-packages\\gensim\\utils.py:1197: UserWarning: detected Windows; aliasing chunkize to chunkize_serial\n",
      "  warnings.warn(\"detected Windows; aliasing chunkize to chunkize_serial\")\n"
     ]
    }
   ],
   "source": [
    "\n",
    "%matplotlib inline\n",
    "import numpy as np\n",
    "import pandas as pd\n",
    "import scipy\n",
    "import sklearn\n",
    "import spacy\n",
    "import matplotlib.pyplot as plt\n",
    "import seaborn as sns\n",
    "import re\n",
    "from collections import Counter\n",
    "from sklearn.feature_extraction.text import TfidfTransformer\n",
    "from sklearn.feature_extraction.text import CountVectorizer\n",
    "from sklearn.feature_extraction.text import TfidfVectorizer\n",
    "from sklearn import linear_model\n",
    "from sklearn.metrics import accuracy_score\n",
    "from sklearn.naive_bayes import MultinomialNB\n",
    "from sklearn.naive_bayes import GaussianNB\n",
    "from gensim.models import doc2vec\n",
    "from collections import namedtuple\n",
    "nlp = spacy.load('en_core_web_sm')\n",
    "import en_core_web_sm\n",
    "import csv"
   ]
  },
  {
   "cell_type": "markdown",
   "metadata": {},
   "source": [
    "For this challenge, you will need to choose a corpus of data from nltk or another source that includes categories you can predict and create an analysis pipeline that includes the following steps:\n",
    "\n",
    "1. Data cleaning / processing / language parsing\n",
    "2. Create features using two different NLP methods: For example, BoW vs tf-idf.\n",
    "3. Use the features to fit supervised learning models for each feature set to predict the category outcomes.\n",
    "4. Assess your models using cross-validation and determine whether one model performed better.\n",
    "5. Pick one of the models and try to increase accuracy by at least 5 percentage points."
   ]
  },
  {
   "cell_type": "code",
   "execution_count": 20,
   "metadata": {},
   "outputs": [
    {
     "name": "stdout",
     "output_type": "stream",
     "text": [
      "showing info https://raw.githubusercontent.com/nltk/nltk_data/gh-pages/index.xml\n"
     ]
    },
    {
     "data": {
      "text/plain": [
       "True"
      ]
     },
     "execution_count": 20,
     "metadata": {},
     "output_type": "execute_result"
    }
   ],
   "source": [
    "import nltk\n",
    "# Launch the installer to download \"gutenberg\" and \"stop words\" corpora.\n",
    "nltk.download()"
   ]
  },
  {
   "cell_type": "markdown",
   "metadata": {},
   "source": [
    "## 1. Data cleaning / processing / language parsing"
   ]
  },
  {
   "cell_type": "code",
   "execution_count": 21,
   "metadata": {},
   "outputs": [
    {
     "name": "stdout",
     "output_type": "stream",
     "text": [
      "['austen-emma.txt', 'austen-persuasion.txt', 'austen-sense.txt', 'bible-kjv.txt', 'blake-poems.txt', 'bryant-stories.txt', 'burgess-busterbrown.txt', 'carroll-alice.txt', 'chesterton-ball.txt', 'chesterton-brown.txt', 'chesterton-thursday.txt', 'edgeworth-parents.txt', 'melville-moby_dick.txt', 'milton-paradise.txt', 'shakespeare-caesar.txt', 'shakespeare-hamlet.txt', 'shakespeare-macbeth.txt', 'whitman-leaves.txt']\n"
     ]
    }
   ],
   "source": [
    "# Import the data we just downloaded and installed.\n",
    "from nltk.corpus import gutenberg, stopwords\n",
    "\n",
    "# Grab and process the raw data.\n",
    "print(gutenberg.fileids())\n"
   ]
  },
  {
   "cell_type": "code",
   "execution_count": 22,
   "metadata": {},
   "outputs": [
    {
     "name": "stdout",
     "output_type": "stream",
     "text": [
      "\n",
      "Raw:\n",
      " [Leaves of Grass by Walt Whitman 1855]\n",
      "\n",
      "\n",
      "Come, said my soul,\n",
      "Such verses for my Body let us write, (\n",
      "\n",
      "Raw:\n",
      " [Poems by William Blake 1789]\n",
      "\n",
      " \n",
      "SONGS OF INNOCENCE AND OF EXPERIENCE\n",
      "and THE BOOK of THEL\n",
      "\n",
      "\n",
      " SONGS \n"
     ]
    }
   ],
   "source": [
    "whitman = gutenberg.raw('whitman-leaves.txt')\n",
    "blake = gutenberg.raw('blake-poems.txt')\n",
    "\n",
    "print('\\nRaw:\\n', whitman[0:100])\n",
    "print('\\nRaw:\\n', blake[0:100])"
   ]
  },
  {
   "cell_type": "code",
   "execution_count": 23,
   "metadata": {},
   "outputs": [
    {
     "name": "stdout",
     "output_type": "stream",
     "text": [
      "Title removed:\n",
      " \n",
      "\n",
      "\n",
      "Come, said my soul,\n",
      "Such verses for my Body let us write, (for we are one,)\n",
      "That should I after r\n",
      "Title removed:\n",
      " \n",
      "\n",
      " \n",
      "SONGS OF INNOCENCE AND OF EXPERIENCE\n",
      "and THE BOOK of THEL\n",
      "\n",
      "\n",
      " SONGS OF INNOCENCE\n",
      " \n",
      " \n",
      " INTRODUCTIO\n"
     ]
    }
   ],
   "source": [
    "# This pattern matches all text between square brackets.\n",
    "pattern = \"[\\[].*?[\\]]\"\n",
    "whitman = re.sub(pattern, \"\", whitman)\n",
    "blake = re.sub(pattern, \"\", blake)\n",
    "\n",
    "# Print the first 100 characters of Alice again.\n",
    "print('Title removed:\\n', whitman[0:100])\n",
    "print('Title removed:\\n', blake[0:100])"
   ]
  },
  {
   "cell_type": "code",
   "execution_count": 24,
   "metadata": {},
   "outputs": [
    {
     "name": "stdout",
     "output_type": "stream",
     "text": [
      "Chapter headings removed:\n",
      " \n",
      "\n",
      "\n",
      "Come, said my soul,\n",
      "Such verses for my Body let us write, (for we are one,)\n",
      "That should I after r\n",
      "Chapter headings removed:\n",
      " \n",
      "\n",
      " \n",
      "SONGS OF INNOCENCE AND OF EXPERIENCE\n",
      "and THE BOOK of THEL\n",
      "\n",
      "\n",
      " SONGS OF INNOCENCE\n",
      " \n",
      " \n",
      " INTRODUCTIO\n"
     ]
    }
   ],
   "source": [
    "# Now we'll match and remove chapter headings.\n",
    "whitman = re.sub(r'Chapter \\d+', '', whitman)\n",
    "blake = re.sub(r'CHAPTER .*', '', blake)\n",
    "\n",
    "# Ok, what's it look like now?\n",
    "print('Chapter headings removed:\\n', whitman[0:100])\n",
    "print('Chapter headings removed:\\n', blake[0:100])"
   ]
  },
  {
   "cell_type": "code",
   "execution_count": 25,
   "metadata": {},
   "outputs": [
    {
     "name": "stdout",
     "output_type": "stream",
     "text": [
      "Extra whitespace removed:\n",
      " SONGS OF INNOCENCE AND OF EXPERIENCE and THE BOOK of THEL SONGS OF INNOCENCE INTRODUCTION Piping dow\n",
      "Extra whitespace removed:\n",
      " Come, said my soul, Such verses for my Body let us write, (for we are one,) That should I after retu\n"
     ]
    }
   ],
   "source": [
    "# Remove newlines and other extra whitespace by splitting and rejoining.\n",
    "blake = ' '.join(blake.split())\n",
    "whitman = ' '.join(whitman.split())\n",
    "\n",
    "# All done with cleanup? Let's see how it looks.\n",
    "print('Extra whitespace removed:\\n', blake[0:100])\n",
    "print('Extra whitespace removed:\\n', whitman[0:100])"
   ]
  },
  {
   "cell_type": "code",
   "execution_count": 26,
   "metadata": {},
   "outputs": [
    {
     "name": "stdout",
     "output_type": "stream",
     "text": [
      "['i', 'me', 'my', 'myself', 'we', 'our', 'ours', 'ourselves', 'you', \"you're\", \"you've\", \"you'll\", \"you'd\", 'your', 'yours', 'yourself', 'yourselves', 'he', 'him', 'his', 'himself', 'she', \"she's\", 'her', 'hers', 'herself', 'it', \"it's\", 'its', 'itself', 'they', 'them', 'their', 'theirs', 'themselves', 'what', 'which', 'who', 'whom', 'this', 'that', \"that'll\", 'these', 'those', 'am', 'is', 'are', 'was', 'were', 'be', 'been', 'being', 'have', 'has', 'had', 'having', 'do', 'does', 'did', 'doing', 'a', 'an', 'the', 'and', 'but', 'if', 'or', 'because', 'as', 'until', 'while', 'of', 'at', 'by', 'for', 'with', 'about', 'against', 'between', 'into', 'through', 'during', 'before', 'after', 'above', 'below', 'to', 'from', 'up', 'down', 'in', 'out', 'on', 'off', 'over', 'under', 'again', 'further', 'then', 'once', 'here', 'there', 'when', 'where', 'why', 'how', 'all', 'any', 'both', 'each', 'few', 'more', 'most', 'other', 'some', 'such', 'no', 'nor', 'not', 'only', 'own', 'same', 'so', 'than', 'too', 'very', 's', 't', 'can', 'will', 'just', 'don', \"don't\", 'should', \"should've\", 'now', 'd', 'll', 'm', 'o', 're', 've', 'y', 'ain', 'aren', \"aren't\", 'couldn', \"couldn't\", 'didn', \"didn't\", 'doesn', \"doesn't\", 'hadn', \"hadn't\", 'hasn', \"hasn't\", 'haven', \"haven't\", 'isn', \"isn't\", 'ma', 'mightn', \"mightn't\", 'mustn', \"mustn't\", 'needn', \"needn't\", 'shan', \"shan't\", 'shouldn', \"shouldn't\", 'wasn', \"wasn't\", 'weren', \"weren't\", 'won', \"won't\", 'wouldn', \"wouldn't\"]\n"
     ]
    }
   ],
   "source": [
    "# Here is a list of the stopwords identified by NLTK.\n",
    "print(stopwords.words('english'))"
   ]
  },
  {
   "cell_type": "code",
   "execution_count": 27,
   "metadata": {},
   "outputs": [],
   "source": [
    "import en_core_web_sm\n",
    "nlp = en_core_web_sm.load()\n",
    "\n",
    "# All the processing work is done here, so it may take a while.\n",
    "blake_doc = nlp(blake)\n",
    "whitman_doc = nlp(whitman)"
   ]
  },
  {
   "cell_type": "code",
   "execution_count": 28,
   "metadata": {},
   "outputs": [
    {
     "name": "stdout",
     "output_type": "stream",
     "text": [
      "Blake: [('the', 351), ('And', 176), ('and', 169), ('of', 131), ('I', 130), ('in', 116), ('a', 108), ('to', 92), ('my', 72), ('The', 61)]\n",
      "Whitman: [('the', 8809), ('and', 4794), ('of', 4123), ('I', 2924), ('to', 1930), ('in', 1713), ('you', 1345), ('The', 1294), ('with', 1111), ('a', 1092)]\n"
     ]
    }
   ],
   "source": [
    "from collections import Counter\n",
    "\n",
    "# Utility function to calculate how frequently words appear in the text.\n",
    "def word_frequencies(text, include_stop=True):\n",
    "    \n",
    "    # Build a list of words.\n",
    "    # Strip out punctuation and, optionally, stop words.\n",
    "    words = []\n",
    "    for token in text:\n",
    "        if not token.is_punct and (not token.is_stop or include_stop):\n",
    "            words.append(token.text)\n",
    "            \n",
    "    # Build and return a Counter object containing word counts.\n",
    "    return Counter(words)\n",
    "    \n",
    "# The most frequent words:\n",
    "blake_freq = word_frequencies(blake_doc).most_common(10)\n",
    "whitman_freq = word_frequencies(whitman_doc).most_common(10)\n",
    "print('Blake:', blake_freq)\n",
    "print('Whitman:', whitman_freq)"
   ]
  },
  {
   "cell_type": "code",
   "execution_count": 29,
   "metadata": {},
   "outputs": [
    {
     "name": "stdout",
     "output_type": "stream",
     "text": [
      "Blake: [('thee', 42), ('like', 29), ('thy', 28), ('thou', 28), ('little', 26), ('night', 25), ('away', 24), ('joy', 22), ('weep', 21), ('happy', 19)]\n",
      "Whitman: [('O', 591), ('love', 259), ('day', 253), ('shall', 251), ('life', 247), ('soul', 239), ('old', 234), ('man', 230), ('earth', 226), ('long', 223)]\n"
     ]
    }
   ],
   "source": [
    "# Use our optional keyword argument to remove stop words.\n",
    "blake_freq = word_frequencies(blake_doc, include_stop=False).most_common(10)\n",
    "whitman_freq = word_frequencies(whitman_doc, include_stop=False).most_common(10)\n",
    "print('Blake:', blake_freq)\n",
    "print('Whitman:', whitman_freq)"
   ]
  },
  {
   "cell_type": "code",
   "execution_count": 30,
   "metadata": {},
   "outputs": [
    {
     "name": "stdout",
     "output_type": "stream",
     "text": [
      "Unique to Blake: {'like', 'little', 'thee', 'joy', 'weep', 'night', 'happy', 'away', 'thou', 'thy'}\n",
      "Unique to Whitman: {'man', 'life', 'love', 'day', 'earth', 'shall', 'old', 'soul', 'O', 'long'}\n"
     ]
    }
   ],
   "source": [
    "# Pull out just the text from our frequency lists.\n",
    "blake_common = [pair[0] for pair in blake_freq]\n",
    "whitman_common = [pair[0] for pair in whitman_freq]\n",
    "\n",
    "# Use sets to find the unique values in each top ten.\n",
    "print('Unique to Blake:', set(blake_common) - set(whitman_common))\n",
    "print('Unique to Whitman:', set(whitman_common) - set(blake_common))"
   ]
  },
  {
   "cell_type": "code",
   "execution_count": 31,
   "metadata": {},
   "outputs": [
    {
     "name": "stdout",
     "output_type": "stream",
     "text": [
      "\n",
      "Blake: [('thee', 42), ('little', 37), ('hear', 33), ('weep', 32), ('child', 30), ('thy', 29), ('like', 29), ('thou', 28), ('love', 27), ('night', 27)]\n",
      "Whitman: [('o', 579), ('man', 430), ('love', 331), ('day', 323), ('come', 280), ('life', 273), ('soul', 263), ('shall', 251), ('know', 250), ('old', 249)]\n",
      "Unique to Blake: {'like', 'little', 'thee', 'weep', 'night', 'hear', 'thou', 'thy', 'child'}\n",
      "Unique to Whitman: {'man', 'life', 'o', 'day', 'know', 'shall', 'old', 'come', 'soul'}\n"
     ]
    }
   ],
   "source": [
    "# Utility function to calculate how frequently lemas appear in the text.\n",
    "def lemma_frequencies(text, include_stop=True):\n",
    "    \n",
    "    # Build a list of lemas.\n",
    "    # Strip out punctuation and, optionally, stop words.\n",
    "    lemmas = []\n",
    "    for token in text:\n",
    "        if not token.is_punct and (not token.is_stop or include_stop):\n",
    "            lemmas.append(token.lemma_)\n",
    "            \n",
    "    # Build and return a Counter object containing word counts.\n",
    "    return Counter(lemmas)\n",
    "\n",
    "# Instantiate our list of most common lemmas.\n",
    "blake_lemma_freq = lemma_frequencies(blake_doc, include_stop=False).most_common(10)\n",
    "whitman_lemma_freq = lemma_frequencies(whitman_doc, include_stop=False).most_common(10)\n",
    "print('\\nBlake:', blake_lemma_freq)\n",
    "print('Whitman:', whitman_lemma_freq)\n",
    "\n",
    "# Again, identify the lemmas common to one text but not the other.\n",
    "blake_lemma_common = [pair[0] for pair in blake_lemma_freq]\n",
    "whitman_lemma_common = [pair[0] for pair in whitman_lemma_freq]\n",
    "print('Unique to Blake:', set(blake_lemma_common) - set(whitman_lemma_common))\n",
    "print('Unique to Whitman:', set(whitman_lemma_common) - set(blake_lemma_common))"
   ]
  },
  {
   "cell_type": "code",
   "execution_count": 32,
   "metadata": {},
   "outputs": [
    {
     "name": "stdout",
     "output_type": "stream",
     "text": [
      "Blake has 584 sentences.\n",
      "Here is an example: \n",
      "wild\n",
      "\n"
     ]
    }
   ],
   "source": [
    "# Initial exploration of sentences.\n",
    "sentences = list(blake_doc.sents)\n",
    "print(\"Blake has {} sentences.\".format(len(sentences)))\n",
    "\n",
    "example_sentence = sentences[2]\n",
    "print(\"Here is an example: \\n{}\\n\".format(example_sentence))"
   ]
  },
  {
   "cell_type": "code",
   "execution_count": 33,
   "metadata": {},
   "outputs": [
    {
     "name": "stdout",
     "output_type": "stream",
     "text": [
      "Whitman has 6151 sentences.\n",
      "Here is an example: \n",
      "I Sing One's-self\n",
      "\n"
     ]
    }
   ],
   "source": [
    "# Initial exploration of sentences.\n",
    "sentences = list(whitman_doc.sents)\n",
    "print(\"Whitman has {} sentences.\".format(len(sentences)))\n",
    "\n",
    "example_sentence = sentences[2]\n",
    "print(\"Here is an example: \\n{}\\n\".format(example_sentence))"
   ]
  },
  {
   "cell_type": "code",
   "execution_count": 34,
   "metadata": {},
   "outputs": [
    {
     "name": "stdout",
     "output_type": "stream",
     "text": [
      "There are 4 words in this sentence, and 4 of them are unique.\n"
     ]
    }
   ],
   "source": [
    "# Look at some metrics around this sentence.\n",
    "example_words = [token for token in example_sentence if not token.is_punct]\n",
    "unique_words = set([token.text for token in example_words])\n",
    "\n",
    "print((\"There are {} words in this sentence, and {} of them are\"\n",
    "       \" unique.\").format(len(example_words), len(unique_words)))"
   ]
  },
  {
   "cell_type": "markdown",
   "metadata": {},
   "source": [
    "# Standard text cleaning "
   ]
  },
  {
   "cell_type": "code",
   "execution_count": 35,
   "metadata": {},
   "outputs": [],
   "source": [
    "# Utility function for standard text cleaning.\n",
    "def text_cleaner(text):\n",
    "    # Visual inspection identifies a form of punctuation spaCy does not\n",
    "    # recognize: the double dash '--'.  Better get rid of it now!\n",
    "    text = re.sub(r'--',' ',text)\n",
    "    text = re.sub(\"[\\[].*?[\\]]\", \"\", text)\n",
    "    text = ' '.join(text.split())\n",
    "    return text\n",
    "    \n",
    "# Load and clean the data.\n",
    "whitman = gutenberg.raw('whitman-leaves.txt')\n",
    "blake = gutenberg.raw('blake-poems.txt')\n",
    "\n",
    "# The Chapter indicator is idiosyncratic\n",
    "whitman = re.sub(r'Chapter \\d+', '', whitman)\n",
    "blake = re.sub(r'CHAPTER .*', '', blake)\n",
    "    \n",
    "blake = text_cleaner(blake[:int(len(blake)/10)])\n",
    "whitman = text_cleaner(whitman[:int(len(whitman)/10)])"
   ]
  },
  {
   "cell_type": "code",
   "execution_count": 36,
   "metadata": {},
   "outputs": [
    {
     "data": {
      "text/html": [
       "<div>\n",
       "<style scoped>\n",
       "    .dataframe tbody tr th:only-of-type {\n",
       "        vertical-align: middle;\n",
       "    }\n",
       "\n",
       "    .dataframe tbody tr th {\n",
       "        vertical-align: top;\n",
       "    }\n",
       "\n",
       "    .dataframe thead th {\n",
       "        text-align: right;\n",
       "    }\n",
       "</style>\n",
       "<table border=\"1\" class=\"dataframe\">\n",
       "  <thead>\n",
       "    <tr style=\"text-align: right;\">\n",
       "      <th></th>\n",
       "      <th>0</th>\n",
       "      <th>1</th>\n",
       "    </tr>\n",
       "  </thead>\n",
       "  <tbody>\n",
       "    <tr>\n",
       "      <th>0</th>\n",
       "      <td>(SONGS, OF, INNOCENCE, AND, OF, EXPERIENCE, an...</td>\n",
       "      <td>Blake</td>\n",
       "    </tr>\n",
       "    <tr>\n",
       "      <th>1</th>\n",
       "      <td>(INNOCENCE, INTRODUCTION, Piping, down, the, v...</td>\n",
       "      <td>Blake</td>\n",
       "    </tr>\n",
       "    <tr>\n",
       "      <th>2</th>\n",
       "      <td>(wild)</td>\n",
       "      <td>Blake</td>\n",
       "    </tr>\n",
       "    <tr>\n",
       "      <th>3</th>\n",
       "      <td>(,, Piping, songs, of, pleasant, glee, ,, On, ...</td>\n",
       "      <td>Blake</td>\n",
       "    </tr>\n",
       "    <tr>\n",
       "      <th>4</th>\n",
       "      <td>(\", Pipe, a, song, about, a, Lamb, !, \")</td>\n",
       "      <td>Blake</td>\n",
       "    </tr>\n",
       "  </tbody>\n",
       "</table>\n",
       "</div>"
      ],
      "text/plain": [
       "                                                   0      1\n",
       "0  (SONGS, OF, INNOCENCE, AND, OF, EXPERIENCE, an...  Blake\n",
       "1  (INNOCENCE, INTRODUCTION, Piping, down, the, v...  Blake\n",
       "2                                             (wild)  Blake\n",
       "3  (,, Piping, songs, of, pleasant, glee, ,, On, ...  Blake\n",
       "4           (\", Pipe, a, song, about, a, Lamb, !, \")  Blake"
      ]
     },
     "execution_count": 36,
     "metadata": {},
     "output_type": "execute_result"
    }
   ],
   "source": [
    "# Group into sentences.\n",
    "blake_sents = [[sent, \"Blake\"] for sent in blake_doc.sents]\n",
    "whitman_sents = [[sent, \"Whitman\"] for sent in whitman_doc.sents]\n",
    "\n",
    "# Combine the sentences from the two novels into one data frame.\n",
    "sentences = pd.DataFrame(blake_sents + whitman_sents)\n",
    "sentences.head()"
   ]
  },
  {
   "cell_type": "markdown",
   "metadata": {},
   "source": [
    "## Bag of Words "
   ]
  },
  {
   "cell_type": "code",
   "execution_count": 37,
   "metadata": {},
   "outputs": [],
   "source": [
    "# Utility function to create a list of the 2000 most common words.\n",
    "def bag_of_words(text):\n",
    "    \n",
    "    # Filter out punctuation and stop words.\n",
    "    allwords = [token.lemma_\n",
    "                for token in text\n",
    "                if not token.is_punct\n",
    "                and not token.is_stop]\n",
    "    \n",
    "    # Return the most common words.\n",
    "    return [item[0] for item in Counter(allwords).most_common(2000)]\n",
    "    \n",
    "\n",
    "# Creates a data frame with features for each word in our common word set.\n",
    "# Each value is the count of the times the word appears in each sentence.\n",
    "def bow_features(sentences, common_words):\n",
    "    \n",
    "    # Scaffold the data frame and initialize counts to zero.\n",
    "    df = pd.DataFrame(columns=common_words)\n",
    "    df['text_sentence'] = sentences[0]\n",
    "    df['text_source'] = sentences[1]\n",
    "    df.loc[:, common_words] = 0\n",
    "    \n",
    "    # Process each row, counting the occurrence of words in each sentence.\n",
    "    for i, sentence in enumerate(df['text_sentence']):\n",
    "        \n",
    "        # Convert the sentence to lemmas, then filter out punctuation,\n",
    "        # stop words, and uncommon words.\n",
    "        words = [token.lemma_\n",
    "                 for token in sentence\n",
    "                 if (\n",
    "                     not token.is_punct\n",
    "                     and not token.is_stop\n",
    "                     and token.lemma_ in common_words\n",
    "                 )]\n",
    "        \n",
    "        # Populate the row with word counts.\n",
    "        for word in words:\n",
    "            df.loc[i, word] += 1\n",
    "        \n",
    "        # This counter is just to make sure the kernel didn't hang.\n",
    "        if i % 700 == 0:\n",
    "            print(\"Processing row {}\".format(i))\n",
    "            \n",
    "    return df\n",
    "\n",
    "# Set up the bags.\n",
    "blakewords = bag_of_words(blake_doc)\n",
    "whitmanwords = bag_of_words(whitman_doc)\n",
    "\n",
    "# Combine bags to create a set of unique words.\n",
    "common_words = set(blakewords + whitmanwords)"
   ]
  },
  {
   "cell_type": "code",
   "execution_count": 38,
   "metadata": {},
   "outputs": [
    {
     "name": "stdout",
     "output_type": "stream",
     "text": [
      "Processing row 0\n",
      "Processing row 700\n",
      "Processing row 1400\n",
      "Processing row 2100\n",
      "Processing row 2800\n",
      "Processing row 3500\n",
      "Processing row 4200\n",
      "Processing row 4900\n",
      "Processing row 5600\n",
      "Processing row 6300\n"
     ]
    },
    {
     "data": {
      "text/html": [
       "<div>\n",
       "<style scoped>\n",
       "    .dataframe tbody tr th:only-of-type {\n",
       "        vertical-align: middle;\n",
       "    }\n",
       "\n",
       "    .dataframe tbody tr th {\n",
       "        vertical-align: top;\n",
       "    }\n",
       "\n",
       "    .dataframe thead th {\n",
       "        text-align: right;\n",
       "    }\n",
       "</style>\n",
       "<table border=\"1\" class=\"dataframe\">\n",
       "  <thead>\n",
       "    <tr style=\"text-align: right;\">\n",
       "      <th></th>\n",
       "      <th>beetle</th>\n",
       "      <th>scorn</th>\n",
       "      <th>aged</th>\n",
       "      <th>lightning</th>\n",
       "      <th>Jack</th>\n",
       "      <th>divine</th>\n",
       "      <th>brown</th>\n",
       "      <th>measur'd</th>\n",
       "      <th>breathe</th>\n",
       "      <th>lustrous</th>\n",
       "      <th>...</th>\n",
       "      <th>make</th>\n",
       "      <th>continue</th>\n",
       "      <th>seest</th>\n",
       "      <th>flight</th>\n",
       "      <th>inhaling</th>\n",
       "      <th>inure</th>\n",
       "      <th>real</th>\n",
       "      <th>region</th>\n",
       "      <th>text_sentence</th>\n",
       "      <th>text_source</th>\n",
       "    </tr>\n",
       "  </thead>\n",
       "  <tbody>\n",
       "    <tr>\n",
       "      <th>0</th>\n",
       "      <td>0</td>\n",
       "      <td>0</td>\n",
       "      <td>0</td>\n",
       "      <td>0</td>\n",
       "      <td>0</td>\n",
       "      <td>0</td>\n",
       "      <td>0</td>\n",
       "      <td>0</td>\n",
       "      <td>0</td>\n",
       "      <td>0</td>\n",
       "      <td>...</td>\n",
       "      <td>0</td>\n",
       "      <td>0</td>\n",
       "      <td>0</td>\n",
       "      <td>0</td>\n",
       "      <td>0</td>\n",
       "      <td>0</td>\n",
       "      <td>0</td>\n",
       "      <td>0</td>\n",
       "      <td>(SONGS, OF, INNOCENCE, AND, OF, EXPERIENCE, an...</td>\n",
       "      <td>Blake</td>\n",
       "    </tr>\n",
       "    <tr>\n",
       "      <th>1</th>\n",
       "      <td>0</td>\n",
       "      <td>0</td>\n",
       "      <td>0</td>\n",
       "      <td>0</td>\n",
       "      <td>0</td>\n",
       "      <td>0</td>\n",
       "      <td>0</td>\n",
       "      <td>0</td>\n",
       "      <td>0</td>\n",
       "      <td>0</td>\n",
       "      <td>...</td>\n",
       "      <td>0</td>\n",
       "      <td>0</td>\n",
       "      <td>0</td>\n",
       "      <td>0</td>\n",
       "      <td>0</td>\n",
       "      <td>0</td>\n",
       "      <td>0</td>\n",
       "      <td>0</td>\n",
       "      <td>(INNOCENCE, INTRODUCTION, Piping, down, the, v...</td>\n",
       "      <td>Blake</td>\n",
       "    </tr>\n",
       "    <tr>\n",
       "      <th>2</th>\n",
       "      <td>0</td>\n",
       "      <td>0</td>\n",
       "      <td>0</td>\n",
       "      <td>0</td>\n",
       "      <td>0</td>\n",
       "      <td>0</td>\n",
       "      <td>0</td>\n",
       "      <td>0</td>\n",
       "      <td>0</td>\n",
       "      <td>0</td>\n",
       "      <td>...</td>\n",
       "      <td>0</td>\n",
       "      <td>0</td>\n",
       "      <td>0</td>\n",
       "      <td>0</td>\n",
       "      <td>0</td>\n",
       "      <td>0</td>\n",
       "      <td>0</td>\n",
       "      <td>0</td>\n",
       "      <td>(wild)</td>\n",
       "      <td>Blake</td>\n",
       "    </tr>\n",
       "    <tr>\n",
       "      <th>3</th>\n",
       "      <td>0</td>\n",
       "      <td>0</td>\n",
       "      <td>0</td>\n",
       "      <td>0</td>\n",
       "      <td>0</td>\n",
       "      <td>0</td>\n",
       "      <td>0</td>\n",
       "      <td>0</td>\n",
       "      <td>0</td>\n",
       "      <td>0</td>\n",
       "      <td>...</td>\n",
       "      <td>0</td>\n",
       "      <td>0</td>\n",
       "      <td>0</td>\n",
       "      <td>0</td>\n",
       "      <td>0</td>\n",
       "      <td>0</td>\n",
       "      <td>0</td>\n",
       "      <td>0</td>\n",
       "      <td>(,, Piping, songs, of, pleasant, glee, ,, On, ...</td>\n",
       "      <td>Blake</td>\n",
       "    </tr>\n",
       "    <tr>\n",
       "      <th>4</th>\n",
       "      <td>0</td>\n",
       "      <td>0</td>\n",
       "      <td>0</td>\n",
       "      <td>0</td>\n",
       "      <td>0</td>\n",
       "      <td>0</td>\n",
       "      <td>0</td>\n",
       "      <td>0</td>\n",
       "      <td>0</td>\n",
       "      <td>0</td>\n",
       "      <td>...</td>\n",
       "      <td>0</td>\n",
       "      <td>0</td>\n",
       "      <td>0</td>\n",
       "      <td>0</td>\n",
       "      <td>0</td>\n",
       "      <td>0</td>\n",
       "      <td>0</td>\n",
       "      <td>0</td>\n",
       "      <td>(\", Pipe, a, song, about, a, Lamb, !, \")</td>\n",
       "      <td>Blake</td>\n",
       "    </tr>\n",
       "  </tbody>\n",
       "</table>\n",
       "<p>5 rows × 2701 columns</p>\n",
       "</div>"
      ],
      "text/plain": [
       "  beetle scorn aged lightning Jack divine brown measur'd breathe lustrous  \\\n",
       "0      0     0    0         0    0      0     0        0       0        0   \n",
       "1      0     0    0         0    0      0     0        0       0        0   \n",
       "2      0     0    0         0    0      0     0        0       0        0   \n",
       "3      0     0    0         0    0      0     0        0       0        0   \n",
       "4      0     0    0         0    0      0     0        0       0        0   \n",
       "\n",
       "      ...     make continue seest flight inhaling inure real region  \\\n",
       "0     ...        0        0     0      0        0     0    0      0   \n",
       "1     ...        0        0     0      0        0     0    0      0   \n",
       "2     ...        0        0     0      0        0     0    0      0   \n",
       "3     ...        0        0     0      0        0     0    0      0   \n",
       "4     ...        0        0     0      0        0     0    0      0   \n",
       "\n",
       "                                       text_sentence text_source  \n",
       "0  (SONGS, OF, INNOCENCE, AND, OF, EXPERIENCE, an...       Blake  \n",
       "1  (INNOCENCE, INTRODUCTION, Piping, down, the, v...       Blake  \n",
       "2                                             (wild)       Blake  \n",
       "3  (,, Piping, songs, of, pleasant, glee, ,, On, ...       Blake  \n",
       "4           (\", Pipe, a, song, about, a, Lamb, !, \")       Blake  \n",
       "\n",
       "[5 rows x 2701 columns]"
      ]
     },
     "execution_count": 38,
     "metadata": {},
     "output_type": "execute_result"
    }
   ],
   "source": [
    "# Create our data frame with features. This can take a while to run.\n",
    "word_counts = bow_features(sentences, common_words)\n",
    "word_counts.head()"
   ]
  },
  {
   "cell_type": "code",
   "execution_count": 39,
   "metadata": {},
   "outputs": [
    {
     "name": "stdout",
     "output_type": "stream",
     "text": [
      "2699\n"
     ]
    }
   ],
   "source": [
    "print(len(common_words))"
   ]
  },
  {
   "cell_type": "markdown",
   "metadata": {},
   "source": [
    "# Models\n",
    "\n",
    "1. Logistic regression \n",
    "2. Naive Bayes\n",
    "3. Gradient Boosting\n",
    "4. Random Forest \n",
    "5. Linear SVM\n",
    "6. Stocastich Gradient Descent "
   ]
  },
  {
   "cell_type": "markdown",
   "metadata": {},
   "source": [
    "### Model imports sklearn"
   ]
  },
  {
   "cell_type": "code",
   "execution_count": 102,
   "metadata": {},
   "outputs": [],
   "source": [
    "from sklearn import ensemble\n",
    "from sklearn.model_selection import train_test_split\n",
    "from sklearn.naive_bayes import GaussianNB\n",
    "from sklearn.linear_model import LogisticRegression\n",
    "from sklearn.svm import SVC\n",
    "from sklearn.metrics import classification_report,confusion_matrix\n",
    "from sklearn.linear_model import SGDClassifier\n",
    "from sklearn import metrics\n"
   ]
  },
  {
   "cell_type": "markdown",
   "metadata": {},
   "source": [
    "# Logistic Regression "
   ]
  },
  {
   "cell_type": "code",
   "execution_count": 103,
   "metadata": {},
   "outputs": [],
   "source": [
    "Y = word_counts['text_source']\n",
    "X = np.array(word_counts.drop(['text_sentence','text_source'], 1))"
   ]
  },
  {
   "cell_type": "code",
   "execution_count": 104,
   "metadata": {},
   "outputs": [
    {
     "name": "stderr",
     "output_type": "stream",
     "text": [
      "C:\\Users\\mille\\Conda3\\lib\\site-packages\\sklearn\\linear_model\\logistic.py:433: FutureWarning: Default solver will be changed to 'lbfgs' in 0.22. Specify a solver to silence this warning.\n",
      "  FutureWarning)\n",
      "C:\\Users\\mille\\Conda3\\lib\\site-packages\\sklearn\\linear_model\\logistic.py:433: FutureWarning: Default solver will be changed to 'lbfgs' in 0.22. Specify a solver to silence this warning.\n",
      "  FutureWarning)\n"
     ]
    }
   ],
   "source": [
    "# Apply to testing data\n",
    "from sklearn.linear_model import LogisticRegression\n",
    "\n",
    "lr = LogisticRegression(penalty='l2')\n",
    "X_train, X_test, y_train, y_test = train_test_split(X, Y, test_size=0.4, random_state=0)\n",
    "\n",
    "train = lr.fit(X_train, y_train)\n",
    "\n",
    "lr = LogisticRegression()\n",
    "train = lr.fit(X_train, y_train)\n",
    "\n",
    "y_hat = lr.predict(X_test)"
   ]
  },
  {
   "cell_type": "markdown",
   "metadata": {},
   "source": [
    "## Bag of Words Logistic Regression"
   ]
  },
  {
   "cell_type": "code",
   "execution_count": 105,
   "metadata": {},
   "outputs": [
    {
     "name": "stderr",
     "output_type": "stream",
     "text": [
      "C:\\Users\\mille\\Conda3\\lib\\site-packages\\sklearn\\linear_model\\logistic.py:433: FutureWarning: Default solver will be changed to 'lbfgs' in 0.22. Specify a solver to silence this warning.\n",
      "  FutureWarning)\n"
     ]
    },
    {
     "name": "stdout",
     "output_type": "stream",
     "text": [
      "Training set score: 0.9626330116307844\n",
      "\n",
      "Test set score: 0.9302152932442465\n",
      "              precision    recall  f1-score   support\n",
      "\n",
      "       Blake       0.88      0.25      0.39       240\n",
      "     Whitman       0.93      1.00      0.96      2454\n",
      "\n",
      "   micro avg       0.93      0.93      0.93      2694\n",
      "   macro avg       0.91      0.62      0.68      2694\n",
      "weighted avg       0.93      0.93      0.91      2694\n",
      "\n",
      "text_source  Blake  Whitman\n",
      "row_0                      \n",
      "Blake           60        8\n",
      "Whitman        180     2446\n"
     ]
    }
   ],
   "source": [
    "\n",
    "#fit lr\n",
    "\n",
    "lr.fit(X_train, y_train)\n",
    "\n",
    "# Apply to testing data\n",
    "y_hat = lr.predict(X_test)\n",
    "\n",
    "cross = pd.crosstab(y_hat, y_test)\n",
    "\n",
    "print('Training set score:', lr.score(X_train, y_train))\n",
    "print('\\nTest set score:', lr.score(X_test, y_test))\n",
    "print(classification_report(y_test, y_hat))\n",
    "print(cross)"
   ]
  },
  {
   "cell_type": "markdown",
   "metadata": {},
   "source": [
    "## Bag of words Naive Bayes"
   ]
  },
  {
   "cell_type": "code",
   "execution_count": 106,
   "metadata": {},
   "outputs": [
    {
     "name": "stdout",
     "output_type": "stream",
     "text": [
      "Training set score: 0.8272704776045533\n",
      "\n",
      "Test set score: 0.7847067557535263\n",
      "Accuracy is: 0.785\n",
      "              precision    recall  f1-score   support\n",
      "\n",
      "       Blake       0.24      0.65      0.35       240\n",
      "     Whitman       0.96      0.80      0.87      2454\n",
      "\n",
      "   micro avg       0.78      0.78      0.78      2694\n",
      "   macro avg       0.60      0.72      0.61      2694\n",
      "weighted avg       0.89      0.78      0.82      2694\n",
      "\n",
      "text_source  Blake  Whitman\n",
      "row_0                      \n",
      "Blake          156      496\n",
      "Whitman         84     1958\n"
     ]
    }
   ],
   "source": [
    "from sklearn.naive_bayes import GaussianNB\n",
    "\n",
    "\n",
    "#Initialize and fit\n",
    "nb = GaussianNB()\n",
    "nb.fit(X_train, y_train)\n",
    "\n",
    "# Apply to testing data\n",
    "y_hat = nb.predict(X_test)\n",
    "\n",
    "# Showing model performance\n",
    "cross = pd.crosstab(y_hat, y_test)\n",
    "print('Training set score:', nb.score(X_train, y_train))\n",
    "print('\\nTest set score:', nb.score(X_test, y_test))\n",
    "print(\"Accuracy is: %0.3f\" % nb.score(X_test, y_test))\n",
    "print(classification_report(y_test, y_hat))\n",
    "print(cross)"
   ]
  },
  {
   "cell_type": "markdown",
   "metadata": {},
   "source": [
    "## Bag of words Gradient Boosting "
   ]
  },
  {
   "cell_type": "code",
   "execution_count": 47,
   "metadata": {},
   "outputs": [
    {
     "name": "stdout",
     "output_type": "stream",
     "text": [
      "Training set score: 0.9334323187329869\n",
      "\n",
      "Test set score: 0.9213066072754269\n",
      "              precision    recall  f1-score   support\n",
      "\n",
      "       Blake       0.89      0.14      0.24       240\n",
      "     Whitman       0.92      1.00      0.96      2454\n",
      "\n",
      "   micro avg       0.92      0.92      0.92      2694\n",
      "   macro avg       0.91      0.57      0.60      2694\n",
      "weighted avg       0.92      0.92      0.90      2694\n",
      "\n",
      "text_source  Blake  Whitman\n",
      "row_0                      \n",
      "Blake          156      496\n",
      "Whitman         84     1958\n"
     ]
    }
   ],
   "source": [
    "clf = ensemble.GradientBoostingClassifier()\n",
    "\n",
    "\n",
    "\n",
    "clf.fit(X_train, y_train)\n",
    "\n",
    "# Apply to testing data\n",
    "y_hat = clf.predict(X_test)\n",
    "\n",
    "train = clf.fit(X_train, y_train)\n",
    "print('Training set score:', clf.score(X_train, y_train))\n",
    "print('\\nTest set score:', clf.score(X_test, y_test))\n",
    "print(classification_report(y_test, y_hat))\n",
    "print(cross)"
   ]
  },
  {
   "cell_type": "markdown",
   "metadata": {},
   "source": [
    "## Bag of words Random Forest"
   ]
  },
  {
   "cell_type": "code",
   "execution_count": 48,
   "metadata": {},
   "outputs": [
    {
     "name": "stderr",
     "output_type": "stream",
     "text": [
      "C:\\Users\\mille\\Conda3\\lib\\site-packages\\sklearn\\ensemble\\forest.py:246: FutureWarning: The default value of n_estimators will change from 10 in version 0.20 to 100 in 0.22.\n",
      "  \"10 in version 0.20 to 100 in 0.22.\", FutureWarning)\n"
     ]
    },
    {
     "name": "stdout",
     "output_type": "stream",
     "text": [
      "Training set score: 0.9888641425389755\n",
      "\n",
      "Test set score: 0.9227913882702301\n",
      "              precision    recall  f1-score   support\n",
      "\n",
      "       Blake       0.59      0.35      0.44       240\n",
      "     Whitman       0.94      0.98      0.96      2454\n",
      "\n",
      "   micro avg       0.92      0.92      0.92      2694\n",
      "   macro avg       0.76      0.66      0.70      2694\n",
      "weighted avg       0.91      0.92      0.91      2694\n",
      "\n",
      "text_source  Blake  Whitman\n",
      "row_0                      \n",
      "Blake          156      496\n",
      "Whitman         84     1958\n"
     ]
    }
   ],
   "source": [
    "from sklearn import ensemble\n",
    "from sklearn.model_selection import train_test_split\n",
    "\n",
    "rfc = ensemble.RandomForestClassifier()\n",
    "Y = word_counts['text_source']\n",
    "X = np.array(word_counts.drop(['text_sentence','text_source'], 1))\n",
    "\n",
    "\n",
    "rfc.fit(X_train, y_train)\n",
    "\n",
    "# Apply to testing data\n",
    "y_hat = rfc.predict(X_test)\n",
    "\n",
    "X_train, X_test, y_train, y_test = train_test_split(X, \n",
    "                                                    Y,\n",
    "                                                    test_size=0.4,\n",
    "                                                    random_state=0)\n",
    "train = rfc.fit(X_train, y_train)\n",
    "\n",
    "print('Training set score:', rfc.score(X_train, y_train))\n",
    "print('\\nTest set score:', rfc.score(X_test, y_test))\n",
    "print(classification_report(y_test, y_hat))\n",
    "print(cross)"
   ]
  },
  {
   "cell_type": "markdown",
   "metadata": {},
   "source": [
    "## Bag of words Linear SVM "
   ]
  },
  {
   "cell_type": "code",
   "execution_count": 107,
   "metadata": {},
   "outputs": [
    {
     "name": "stdout",
     "output_type": "stream",
     "text": [
      "Training set score: 0.9829250185597624\n",
      "\n",
      "Test set score: 0.9357832219747587\n",
      "Accuracy is: 0.936\n",
      "              precision    recall  f1-score   support\n",
      "\n",
      "       Blake       0.74      0.42      0.54       240\n",
      "     Whitman       0.95      0.99      0.97      2454\n",
      "\n",
      "   micro avg       0.94      0.94      0.94      2694\n",
      "   macro avg       0.85      0.71      0.75      2694\n",
      "weighted avg       0.93      0.94      0.93      2694\n",
      "\n",
      "text_source  Blake  Whitman\n",
      "row_0                      \n",
      "Blake          102       35\n",
      "Whitman        138     2419\n"
     ]
    }
   ],
   "source": [
    "from sklearn.svm import SVC\n",
    "from sklearn.metrics import classification_report,confusion_matrix\n",
    "\n",
    "\n",
    "# Create instance and fit\n",
    "sv = SVC(kernel='linear')\n",
    "sv.fit(X_train, y_train)\n",
    "\n",
    "# Apply to testing data\n",
    "y_hat = sv.predict(X_test)\n",
    "\n",
    "# Showing model performance\n",
    "cross = pd.crosstab(y_hat, y_test)\n",
    "print('Training set score:', sv.score(X_train, y_train))\n",
    "print('\\nTest set score:', sv.score(X_test, y_test))\n",
    "print(\"Accuracy is: %0.3f\" % sv.score(X_test, y_test))\n",
    "print(classification_report(y_test, y_hat))\n",
    "print(cross)"
   ]
  },
  {
   "cell_type": "markdown",
   "metadata": {},
   "source": [
    "## Bag of words Stocastic Gradient Descent"
   ]
  },
  {
   "cell_type": "code",
   "execution_count": 108,
   "metadata": {},
   "outputs": [
    {
     "name": "stderr",
     "output_type": "stream",
     "text": [
      "C:\\Users\\mille\\Conda3\\lib\\site-packages\\sklearn\\linear_model\\stochastic_gradient.py:166: FutureWarning: max_iter and tol parameters have been added in SGDClassifier in 0.19. If both are left unset, they default to max_iter=5 and tol=None. If tol is not None, max_iter defaults to max_iter=1000. From 0.21, default max_iter will be 1000, and default tol will be 1e-3.\n",
      "  FutureWarning)\n"
     ]
    },
    {
     "name": "stdout",
     "output_type": "stream",
     "text": [
      "Training set score: 0.9772333580796833\n",
      "\n",
      "Test set score: 0.9261321455085375\n",
      "Accuracy is: 0.926\n",
      "              precision    recall  f1-score   support\n",
      "\n",
      "       Blake       0.58      0.62      0.60       240\n",
      "     Whitman       0.96      0.96      0.96      2454\n",
      "\n",
      "   micro avg       0.93      0.93      0.93      2694\n",
      "   macro avg       0.77      0.79      0.78      2694\n",
      "weighted avg       0.93      0.93      0.93      2694\n",
      "\n",
      "text_source  Blake  Whitman\n",
      "row_0                      \n",
      "Blake          149      108\n",
      "Whitman         91     2346\n"
     ]
    }
   ],
   "source": [
    "from sklearn.linear_model import SGDClassifier\n",
    "from sklearn import metrics\n",
    "\n",
    "\n",
    "# Create instance and fit\n",
    "sgdc = SGDClassifier(loss = 'hinge')\n",
    "sgdc.fit(X_train, y_train)\n",
    "\n",
    "# Apply to testing data\n",
    "y_hat = sgdc.predict(X_test)\n",
    "\n",
    "\n",
    "# Showing model performance\n",
    "cross = pd.crosstab(y_hat, y_test)\n",
    "print('Training set score:', sgdc.score(X_train, y_train))\n",
    "print('\\nTest set score:', sgdc.score(X_test, y_test))\n",
    "print(\"Accuracy is: %0.3f\" % sgdc.score(X_test, y_test))\n",
    "print(classification_report(y_test, y_hat))\n",
    "print(cross)"
   ]
  },
  {
   "cell_type": "markdown",
   "metadata": {},
   "source": [
    "# Summary of Bag of Words supervised results\n",
    "<img src=\"https://raw.githubusercontent.com/DMiller78/NLP/master/Screenshot%20(39).png\">"
   ]
  },
  {
   "cell_type": "markdown",
   "metadata": {},
   "source": [
    "The best overall model for the Bag of Words in a supervised model is Stocastic Gradient Descent. Has a high training and test set score accuracy. With a f1-score of 0.96 for Whitman and 0.60 for Blake, and containing a f1 0.93 weighted average. \n",
    "\n",
    "The Linear SVM very similar to Stocastic Gradient Descent model only difference is 0.06 f1-score for Blake. \n",
    "\n",
    "Take aways: \n",
    "\n",
    "All the models except for Naive Bayes (0.87) have f1-scores of 0.96 or higher. However, the f1-scores were much lower in the Blake text analysis. With Gradient Boosting the lowest score at 0.24 and Stocastic Gradient Descent at the highest at 0.60. \n",
    "\n"
   ]
  },
  {
   "cell_type": "markdown",
   "metadata": {},
   "source": [
    "# Unsupervised NLP"
   ]
  },
  {
   "cell_type": "code",
   "execution_count": 80,
   "metadata": {},
   "outputs": [],
   "source": [
    "#reading in the data, this time in the form of paragraphs\n",
    "whitman = gutenberg.paras('whitman-leaves.txt')\n",
    "blake = gutenberg.paras('blake-poems.txt')\n",
    "\n",
    "\n",
    "#processingwnload()\n",
    "\n",
    "whitman_paras = []\n",
    "blake_paras=[]\n"
   ]
  },
  {
   "cell_type": "markdown",
   "metadata": {},
   "source": [
    "## Walt Whitman\n",
    "\n",
    "### Increased percentage points: Pick one of the models and try to increase accuracy by at least 5 percentage points.\n",
    "\n",
    "Initial run the Whitman text captured variance = 29% \n",
    "\n",
    "Adjusting model - second attempt \n",
    "changed: svd= TruncatedSVD from 130 to 250 \n",
    "captured variance = 35% \n",
    "\n"
   ]
  },
  {
   "cell_type": "code",
   "execution_count": 109,
   "metadata": {},
   "outputs": [
    {
     "name": "stdout",
     "output_type": "stream",
     "text": [
      "['[ Leaves of Grass by Walt Whitman 1855 ]', \"Come , said my soul , Such verses for my Body let us write , ( for we are one ,) That should I after return , Or , long , long hence , in other spheres , There to some group of mates the chants resuming , ( Tallying Earth ' s soil , trees , winds , tumultuous waves ,) Ever with pleas ' d smile I may keep on , Ever and ever yet the verses owning  as , first , I here and now Signing for Soul and Body , set to them my name ,\", 'Walt Whitman', '[ BOOK I . INSCRIPTIONS ]']\n"
     ]
    }
   ],
   "source": [
    "\n",
    "for paragraph in whitman:\n",
    "    para=paragraph[0]\n",
    "    #removing the double-dash from all words\n",
    "    para=[re.sub(r'--','',word) for word in para]\n",
    "    #Forming each paragraph into a string and adding it to the list of strings.\n",
    "    whitman_paras.append(' '.join(para))\n",
    "\n",
    "print(whitman_paras[0:4])"
   ]
  },
  {
   "cell_type": "code",
   "execution_count": 110,
   "metadata": {},
   "outputs": [],
   "source": [
    "\n",
    "from sklearn.feature_extraction.text import TfidfVectorizer\n",
    "\n",
    "X_train, X_test = train_test_split(whitman_paras, test_size=0.40, random_state=0)\n",
    "\n",
    "vectorizer = TfidfVectorizer(max_df=0.5, # drop words that occur in more than half the paragraphs\n",
    "                             min_df=2, # only use words that appear at least twice\n",
    "                             stop_words='english', \n",
    "                             lowercase=True, #convert everything to lower case (since Alice in Wonderland has the HABIT of CAPITALIZING WORDS for EMPHASIS)\n",
    "                             use_idf=True,#we definitely want to use inverse document frequencies in our weighting\n",
    "                             norm=u'l2', #Applies a correction factor so that longer paragraphs and shorter paragraphs get treated equally\n",
    "                             smooth_idf=True #Adds 1 to all document frequencies, as if an extra document existed that used every word once.  Prevents divide-by-zero errors\n",
    "                            )"
   ]
  },
  {
   "cell_type": "code",
   "execution_count": 111,
   "metadata": {},
   "outputs": [
    {
     "name": "stdout",
     "output_type": "stream",
     "text": [
      "Number of features: 10346\n",
      "Original sentence: } As I Ponder ' d in Silence\n",
      "Tf_idf vector: {'silence': 0.6441482774256716, 'ponder': 0.7649006449791632}\n"
     ]
    }
   ],
   "source": [
    "#Applying the vectorizer\n",
    "whitman_paras_tfidf=vectorizer.fit_transform(whitman_paras)\n",
    "print(\"Number of features: %d\" % whitman_paras_tfidf.get_shape()[1])\n",
    "\n",
    "#splitting into training and test sets\n",
    "X_train_tfidf, X_test_tfidf= train_test_split(whitman_paras_tfidf, test_size=0.4, random_state=0)\n",
    "\n",
    "\n",
    "#Reshapes the vectorizer output into something people can read\n",
    "X_train_tfidf_csr = X_train_tfidf.tocsr()\n",
    "\n",
    "#number of paragraphs\n",
    "n = X_train_tfidf_csr.shape[0]\n",
    "#A list of dictionaries, one per paragraph\n",
    "tfidf_bypara = [{} for _ in range(0,n)]\n",
    "#List of features\n",
    "terms = vectorizer.get_feature_names()\n",
    "#for each paragraph, lists the feature words and their tf-idf scores\n",
    "for i, j in zip(*X_train_tfidf_csr.nonzero()):\n",
    "    tfidf_bypara[i][terms[j]] = X_train_tfidf_csr[i, j]\n",
    "\n",
    "#Keep in mind that the log base 2 of 1 is 0, so a tf-idf score of 0 indicates that the word was present once in that sentence.\n",
    "print('Original sentence:', X_train[3])\n",
    "print('Tf_idf vector:', tfidf_bypara[3])"
   ]
  },
  {
   "cell_type": "code",
   "execution_count": 112,
   "metadata": {},
   "outputs": [
    {
     "name": "stdout",
     "output_type": "stream",
     "text": [
      "Percent variance captured by all components: 35.22813400115369\n",
      "Component 0:\n",
      "Spontaneous me , Nature , The loving day , the mounting sun , the friend I am happy with , The arm of my friend hanging idly over my shoulder , The hillside whiten ' d with blossoms of the mountain ash , The same late in autumn , the hues of red , yellow , drab , purple , and light and dark green , The rich coverlet of the grass , animals and birds , the private untrimm ' d bank , the primitive apples , the pebble - stones , Beautiful dripping fragments , the negligent list of one after another as I happen to call them to me or think of them , The real poems , ( what we call poems being merely pictures ,) The poems of the privacy of the night , and of men like me , This poem drooping shy and unseen that I always carry , and that all men carry , ( Know once for all , avow ' d on purpose , wherever are men like me , are our lusty lurking masculine poems ,) Love - thoughts , love - juice , love - odor , love - yielding , love - climbers , and the climbing sap , Arms and hands of love , lips of love , phallic thumb of love , breasts of love , bellies press ' d and glued together with love , Earth of chaste love , life that is only life after love , The body of my love , the body of the woman I love , the body of the man , the body of the earth , Soft forenoon airs that blow from the south - west , The hairy wild - bee that murmurs and hankers up and down , that gripes the full - grown lady - flower , curves upon her with amorous firm legs , takes his will of her , and holds himself tremulous and tight till he is satisfied ; The wet of woods through the early hours , Two sleepers at night lying close together as they sleep , one with an arm slanting down across and below the waist of the other , The smell of apples , aromas from crush ' d sage - plant , mint , birch - bark , The boy ' s longings , the glow and pressure as he confides to me what he was dreaming , The dead leaf whirling its spiral whirl and falling still and content to the ground , The no - form ' d stings that sights , people , objects , sting me with , The hubb ' d sting of myself , stinging me as much as it ever can any one , The sensitive , orbic , underlapp ' d brothers , that only privileged feelers may be intimate where they are , The curious roamer the hand roaming all over the body , the bashful withdrawing of flesh where the fingers soothingly pause and edge themselves , The limpid liquid within the young man , The vex ' d corrosion so pensive and so painful , The torment , the irritable tide that will not be at rest , The like of the same I feel , the like of the same in others , The young man that flushes and flushes , and the young woman that flushes and flushes , The young man that wakes deep at night , the hot hand seeking to repress what would master him , The mystic amorous night , the strange half - welcome pangs , visions , sweats , The pulse pounding through palms and trembling encircling fingers , the young man all color ' d , red , ashamed , angry ; The souse upon me of my lover the sea , as I lie willing and naked , The merriment of the twin babes that crawl over the grass in the sun , the mother never turning her vigilant eyes from them , The walnut - trunk , the walnut - husks , and the ripening or ripen ' d long - round walnuts , The continence of vegetables , birds , animals , The consequent meanness of me should I skulk or find myself indecent , while birds and animals never once skulk or find themselves indecent , The great chastity of paternity , to match the great chastity of maternity , The oath of procreation I have sworn , my Adamic and fresh daughters , The greed that eats me day and night with hungry gnaw , till I saturate what shall produce boys to fill my place when I am through , The wholesome relief , repose , content , And this bunch pluck ' d at random from myself , It has done its work  I toss it carelessly to fall where it may .                                                                                                                                                                                                                                                                                                                                                                                                                                                                                                                                                                                                                                                                                                                                                                                                                                                                                                                                                                                                                                                                                                                                                                                                                                                                                                                                                                                                                                                                                                                                                                                                                                                                                                                                                                                                                                                                                                                                                                                                                                                                                                                                                                                                                                                                                                                                                                                                                                                                                                                                                                                                                                                                                                                                                                                                                                                                    0.453611\n",
      "Spontaneous me , Nature , The loving day , the mounting sun , the friend I am happy with , The arm of my friend hanging idly over my shoulder , The hillside whiten ' d with blossoms of the mountain ash , The same late in autumn , the hues of red , yellow , drab , purple , and light and dark green , The rich coverlet of the grass , animals and birds , the private untrimm ' d bank , the primitive apples , the pebble - stones , Beautiful dripping fragments , the negligent list of one after another as I happen to call them to me or think of them , The real poems , ( what we call poems being merely pictures ,) The poems of the privacy of the night , and of men like me , This poem drooping shy and unseen that I always carry , and that all men carry , ( Know once for all , avow ' d on purpose , wherever are men like me , are our lusty lurking masculine poems ,) Love - thoughts , love - juice , love - odor , love - yielding , love - climbers , and the climbing sap , Arms and hands of love , lips of love , phallic thumb of love , breasts of love , bellies press ' d and glued together with love , Earth of chaste love , life that is only life after love , The body of my love , the body of the woman I love , the body of the man , the body of the earth , Soft forenoon airs that blow from the south - west , The hairy wild - bee that murmurs and hankers up and down , that gripes the full - grown lady - flower , curves upon her with amorous firm legs , takes his will of her , and holds himself tremulous and tight till he is satisfied ; The wet of woods through the early hours , Two sleepers at night lying close together as they sleep , one with an arm slanting down across and below the waist of the other , The smell of apples , aromas from crush ' d sage - plant , mint , birch - bark , The boy ' s longings , the glow and pressure as he confides to me what he was dreaming , The dead leaf whirling its spiral whirl and falling still and content to the ground , The no - form ' d stings that sights , people , objects , sting me with , The hubb ' d sting of myself , stinging me as much as it ever can any one , The sensitive , orbic , underlapp ' d brothers , that only privileged feelers may be intimate where they are , The curious roamer the hand roaming all over the body , the bashful withdrawing of flesh where the fingers soothingly pause and edge themselves , The limpid liquid within the young man , The vex ' d corrosion so pensive and so painful , The torment , the irritable tide that will not be at rest , The like of the same I feel , the like of the same in others , The young man that flushes and flushes , and the young woman that flushes and flushes , The young man that wakes deep at night , the hot hand seeking to repress what would master him , The mystic amorous night , the strange half - welcome pangs , visions , sweats , The pulse pounding through palms and trembling encircling fingers , the young man all color ' d , red , ashamed , angry ; The souse upon me of my lover the sea , as I lie willing and naked , The merriment of the twin babes that crawl over the grass in the sun , the mother never turning her vigilant eyes from them , The walnut - trunk , the walnut - husks , and the ripening or ripen ' d long - round walnuts , The continence of vegetables , birds , animals , The consequent meanness of me should I skulk or find myself indecent , while birds and animals never once skulk or find themselves indecent , The great chastity of paternity , to match the great chastity of maternity , The oath of procreation I have sworn , my Adamic and fresh daughters , The greed that eats me day and night with hungry gnaw , till I saturate what shall produce boys to fill my place when I am through , The wholesome relief , repose , content , And this bunch pluck ' d at random from myself , It has done its work  I toss it carelessly to fall where it may .                                                                                                                                                                                                                                                                                                                                                                                                                                                                                                                                                                                                                                                                                                                                                                                                                                                                                                                                                                                                                                                                                                                                                                                                                                                                                                                                                                                                                                                                                                                                                                                                                                                                                                                                                                                                                                                                                                                                                                                                                                                                                                                                                                                                                                                                                                                                                                                                                                                                                                                                                                                                                                                                                                                                                                                                                                                                    0.453611\n",
      "Spontaneous me , Nature , The loving day , the mounting sun , the friend I am happy with , The arm of my friend hanging idly over my shoulder , The hillside whiten ' d with blossoms of the mountain ash , The same late in autumn , the hues of red , yellow , drab , purple , and light and dark green , The rich coverlet of the grass , animals and birds , the private untrimm ' d bank , the primitive apples , the pebble - stones , Beautiful dripping fragments , the negligent list of one after another as I happen to call them to me or think of them , The real poems , ( what we call poems being merely pictures ,) The poems of the privacy of the night , and of men like me , This poem drooping shy and unseen that I always carry , and that all men carry , ( Know once for all , avow ' d on purpose , wherever are men like me , are our lusty lurking masculine poems ,) Love - thoughts , love - juice , love - odor , love - yielding , love - climbers , and the climbing sap , Arms and hands of love , lips of love , phallic thumb of love , breasts of love , bellies press ' d and glued together with love , Earth of chaste love , life that is only life after love , The body of my love , the body of the woman I love , the body of the man , the body of the earth , Soft forenoon airs that blow from the south - west , The hairy wild - bee that murmurs and hankers up and down , that gripes the full - grown lady - flower , curves upon her with amorous firm legs , takes his will of her , and holds himself tremulous and tight till he is satisfied ; The wet of woods through the early hours , Two sleepers at night lying close together as they sleep , one with an arm slanting down across and below the waist of the other , The smell of apples , aromas from crush ' d sage - plant , mint , birch - bark , The boy ' s longings , the glow and pressure as he confides to me what he was dreaming , The dead leaf whirling its spiral whirl and falling still and content to the ground , The no - form ' d stings that sights , people , objects , sting me with , The hubb ' d sting of myself , stinging me as much as it ever can any one , The sensitive , orbic , underlapp ' d brothers , that only privileged feelers may be intimate where they are , The curious roamer the hand roaming all over the body , the bashful withdrawing of flesh where the fingers soothingly pause and edge themselves , The limpid liquid within the young man , The vex ' d corrosion so pensive and so painful , The torment , the irritable tide that will not be at rest , The like of the same I feel , the like of the same in others , The young man that flushes and flushes , and the young woman that flushes and flushes , The young man that wakes deep at night , the hot hand seeking to repress what would master him , The mystic amorous night , the strange half - welcome pangs , visions , sweats , The pulse pounding through palms and trembling encircling fingers , the young man all color ' d , red , ashamed , angry ; The souse upon me of my lover the sea , as I lie willing and naked , The merriment of the twin babes that crawl over the grass in the sun , the mother never turning her vigilant eyes from them , The walnut - trunk , the walnut - husks , and the ripening or ripen ' d long - round walnuts , The continence of vegetables , birds , animals , The consequent meanness of me should I skulk or find myself indecent , while birds and animals never once skulk or find themselves indecent , The great chastity of paternity , to match the great chastity of maternity , The oath of procreation I have sworn , my Adamic and fresh daughters , The greed that eats me day and night with hungry gnaw , till I saturate what shall produce boys to fill my place when I am through , The wholesome relief , repose , content , And this bunch pluck ' d at random from myself , It has done its work  I toss it carelessly to fall where it may .                                                                                                                                                                                                                                                                                                                                                                                                                                                                                                                                                                                                                                                                                                                                                                                                                                                                                                                                                                                                                                                                                                                                                                                                                                                                                                                                                                                                                                                                                                                                                                                                                                                                                                                                                                                                                                                                                                                                                                                                                                                                                                                                                                                                                                                                                                                                                                                                                                                                                                                                                                                                                                                                                                                                                                                                                                                                    0.453611\n",
      "Spontaneous me , Nature , The loving day , the mounting sun , the friend I am happy with , The arm of my friend hanging idly over my shoulder , The hillside whiten ' d with blossoms of the mountain ash , The same late in autumn , the hues of red , yellow , drab , purple , and light and dark green , The rich coverlet of the grass , animals and birds , the private untrimm ' d bank , the primitive apples , the pebble - stones , Beautiful dripping fragments , the negligent list of one after another as I happen to call them to me or think of them , The real poems , ( what we call poems being merely pictures ,) The poems of the privacy of the night , and of men like me , This poem drooping shy and unseen that I always carry , and that all men carry , ( Know once for all , avow ' d on purpose , wherever are men like me , are our lusty lurking masculine poems ,) Love - thoughts , love - juice , love - odor , love - yielding , love - climbers , and the climbing sap , Arms and hands of love , lips of love , phallic thumb of love , breasts of love , bellies press ' d and glued together with love , Earth of chaste love , life that is only life after love , The body of my love , the body of the woman I love , the body of the man , the body of the earth , Soft forenoon airs that blow from the south - west , The hairy wild - bee that murmurs and hankers up and down , that gripes the full - grown lady - flower , curves upon her with amorous firm legs , takes his will of her , and holds himself tremulous and tight till he is satisfied ; The wet of woods through the early hours , Two sleepers at night lying close together as they sleep , one with an arm slanting down across and below the waist of the other , The smell of apples , aromas from crush ' d sage - plant , mint , birch - bark , The boy ' s longings , the glow and pressure as he confides to me what he was dreaming , The dead leaf whirling its spiral whirl and falling still and content to the ground , The no - form ' d stings that sights , people , objects , sting me with , The hubb ' d sting of myself , stinging me as much as it ever can any one , The sensitive , orbic , underlapp ' d brothers , that only privileged feelers may be intimate where they are , The curious roamer the hand roaming all over the body , the bashful withdrawing of flesh where the fingers soothingly pause and edge themselves , The limpid liquid within the young man , The vex ' d corrosion so pensive and so painful , The torment , the irritable tide that will not be at rest , The like of the same I feel , the like of the same in others , The young man that flushes and flushes , and the young woman that flushes and flushes , The young man that wakes deep at night , the hot hand seeking to repress what would master him , The mystic amorous night , the strange half - welcome pangs , visions , sweats , The pulse pounding through palms and trembling encircling fingers , the young man all color ' d , red , ashamed , angry ; The souse upon me of my lover the sea , as I lie willing and naked , The merriment of the twin babes that crawl over the grass in the sun , the mother never turning her vigilant eyes from them , The walnut - trunk , the walnut - husks , and the ripening or ripen ' d long - round walnuts , The continence of vegetables , birds , animals , The consequent meanness of me should I skulk or find myself indecent , while birds and animals never once skulk or find themselves indecent , The great chastity of paternity , to match the great chastity of maternity , The oath of procreation I have sworn , my Adamic and fresh daughters , The greed that eats me day and night with hungry gnaw , till I saturate what shall produce boys to fill my place when I am through , The wholesome relief , repose , content , And this bunch pluck ' d at random from myself , It has done its work  I toss it carelessly to fall where it may .                                                                                                                                                                                                                                                                                                                                                                                                                                                                                                                                                                                                                                                                                                                                                                                                                                                                                                                                                                                                                                                                                                                                                                                                                                                                                                                                                                                                                                                                                                                                                                                                                                                                                                                                                                                                                                                                                                                                                                                                                                                                                                                                                                                                                                                                                                                                                                                                                                                                                                                                                                                                                                                                                                                                                                                                                                                                    0.453611\n",
      "Singly , wholly , to affect now , affected their time , will forever affect , all of the past and all of the present and all of the future , All the brave actions of war and peace , All help given to relatives , strangers , the poor , old , sorrowful , young children , widows , the sick , and to shunn ' d persons , All self - denial that stood steady and aloof on wrecks , and saw others fill the seats of the boats , All offering of substance or life for the good old cause , or for a friend ' s sake , or opinion ' s sake , All pains of enthusiasts scoff ' d at by their neighbors , All the limitless sweet love and precious suffering of mothers , All honest men baffled in strifes recorded or unrecorded , All the grandeur and good of ancient nations whose fragments we inherit , All the good of the dozens of ancient nations unknown to us by name , date , location , All that was ever manfully begun , whether it succeeded or no , All suggestions of the divine mind of man or the divinity of his mouth , or the shaping of his great hands , All that is well thought or said this day on any part of the globe , or on any of the wandering stars , or on any of the fix ' d stars , by those there as we are here , All that is henceforth to be thought or done by you whoever you are , or by any one , These inure , have inured , shall inure , to the identities from which they sprang , or shall spring .                                                                                                                                                                                                                                                                                                                                                                                                                                                                                                                                                                                                                                                                                                                                                                                                                                                                                                                                                                                                                                                                                                                                                                                                                                                                                                                                                                                                                                                                                                                                                                                                                                                                                                                                                                                                                                                                                                                                                                                                                                                                                                                                                                                                                                                                                                                                                                                                                                                                                                                                                                                                                                                                                                                                                                                                                                                                                                                                                                                                                                                                                                                                                                                                                                                                                                                                                                                                                                                                                                                                                                                                                                                                                                                                                                                                                                                                                                                                                                                                                                                                                                                                                                                                                                                                                                                                                                                                                                                                                                                                                                                                                                                                                                                                                                                                                                                                                                                                                                                                                                                                                                                                                                                                                                                                                                                                                                                                                                                                        0.440454\n",
      "Singly , wholly , to affect now , affected their time , will forever affect , all of the past and all of the present and all of the future , All the brave actions of war and peace , All help given to relatives , strangers , the poor , old , sorrowful , young children , widows , the sick , and to shunn ' d persons , All self - denial that stood steady and aloof on wrecks , and saw others fill the seats of the boats , All offering of substance or life for the good old cause , or for a friend ' s sake , or opinion ' s sake , All pains of enthusiasts scoff ' d at by their neighbors , All the limitless sweet love and precious suffering of mothers , All honest men baffled in strifes recorded or unrecorded , All the grandeur and good of ancient nations whose fragments we inherit , All the good of the dozens of ancient nations unknown to us by name , date , location , All that was ever manfully begun , whether it succeeded or no , All suggestions of the divine mind of man or the divinity of his mouth , or the shaping of his great hands , All that is well thought or said this day on any part of the globe , or on any of the wandering stars , or on any of the fix ' d stars , by those there as we are here , All that is henceforth to be thought or done by you whoever you are , or by any one , These inure , have inured , shall inure , to the identities from which they sprang , or shall spring .                                                                                                                                                                                                                                                                                                                                                                                                                                                                                                                                                                                                                                                                                                                                                                                                                                                                                                                                                                                                                                                                                                                                                                                                                                                                                                                                                                                                                                                                                                                                                                                                                                                                                                                                                                                                                                                                                                                                                                                                                                                                                                                                                                                                                                                                                                                                                                                                                                                                                                                                                                                                                                                                                                                                                                                                                                                                                                                                                                                                                                                                                                                                                                                                                                                                                                                                                                                                                                                                                                                                                                                                                                                                                                                                                                                                                                                                                                                                                                                                                                                                                                                                                                                                                                                                                                                                                                                                                                                                                                                                                                                                                                                                                                                                                                                                                                                                                                                                                                                                                                                                                                                                                                                                                                                                                                                                                                                                                                                                        0.440454\n",
      "Thanks in old age  thanks ere I go , For health , the midday sun , the impalpable air  for life , mere life , For precious ever - lingering memories , ( of you my mother dear  you , father  you , brothers , sisters , friends ,) For all my days  not those of peace alone  the days of war the same , For gentle words , caresses , gifts from foreign lands , For shelter , wine and meat  for sweet appreciation , ( You distant , dim unknown  or young or old  countless , unspecified , readers belov ' d , We never met , and neer shall meet  and yet our souls embrace , long , close and long ;) For beings , groups , love , deeds , words , books  for colors , forms , For all the brave strong men  devoted , hardy men  who ' ve forward sprung in freedom ' s help , all years , all lands For braver , stronger , more devoted men ( a special laurel ere I go , to life ' s war ' s chosen ones , The cannoneers of song and thought  the great artillerists  the foremost leaders , captains of the soul :) As soldier from an ended war return ' d  As traveler out of myriads , to the long procession retrospective , Thanks  joyful thanks ! a soldier ' s , traveler ' s thanks .                                                                                                                                                                                                                                                                                                                                                                                                                                                                                                                                                                                                                                                                                                                                                                                                                                                                                                                                                                                                                                                                                                                                                                                                                                                                                                                                                                                                                                                                                                                                                                                                                                                                                                                                                                                                                                                                                                                                                                                                                                                                                                                                                                                                                                                                                                                                                                                                                                                                                                                                                                                                                                                                                                                                                                                                                                                                                                                                                                                                                                                                                                                                                                                                                                                                                                                                                                                                                                                                                                                                                                                                                                                                                                                                                                                                                                                                                                                                                                                                                                                                                                                                                                                                                                                                                                                                                                                                                                                                                                                                                                                                                                                                                                                                                                                                                                                                                                                                                                                                                                                                                                                                                                                                                                                                                                                                                                                                                                                                                                                                                                                                                                                                                                                       0.437692\n",
      "Thanks in old age  thanks ere I go , For health , the midday sun , the impalpable air  for life , mere life , For precious ever - lingering memories , ( of you my mother dear  you , father  you , brothers , sisters , friends ,) For all my days  not those of peace alone  the days of war the same , For gentle words , caresses , gifts from foreign lands , For shelter , wine and meat  for sweet appreciation , ( You distant , dim unknown  or young or old  countless , unspecified , readers belov ' d , We never met , and neer shall meet  and yet our souls embrace , long , close and long ;) For beings , groups , love , deeds , words , books  for colors , forms , For all the brave strong men  devoted , hardy men  who ' ve forward sprung in freedom ' s help , all years , all lands For braver , stronger , more devoted men ( a special laurel ere I go , to life ' s war ' s chosen ones , The cannoneers of song and thought  the great artillerists  the foremost leaders , captains of the soul :) As soldier from an ended war return ' d  As traveler out of myriads , to the long procession retrospective , Thanks  joyful thanks ! a soldier ' s , traveler ' s thanks .                                                                                                                                                                                                                                                                                                                                                                                                                                                                                                                                                                                                                                                                                                                                                                                                                                                                                                                                                                                                                                                                                                                                                                                                                                                                                                                                                                                                                                                                                                                                                                                                                                                                                                                                                                                                                                                                                                                                                                                                                                                                                                                                                                                                                                                                                                                                                                                                                                                                                                                                                                                                                                                                                                                                                                                                                                                                                                                                                                                                                                                                                                                                                                                                                                                                                                                                                                                                                                                                                                                                                                                                                                                                                                                                                                                                                                                                                                                                                                                                                                                                                                                                                                                                                                                                                                                                                                                                                                                                                                                                                                                                                                                                                                                                                                                                                                                                                                                                                                                                                                                                                                                                                                                                                                                                                                                                                                                                                                                                                                                                                                                                                                                                                                                       0.437692\n",
      "By the city ' s quadrangular houses  in log huts , camping with lumber - men , Along the ruts of the turnpike , along the dry gulch and rivulet bed , Weeding my onion - patch or hosing rows of carrots and parsnips , crossing savannas , trailing in forests , Prospecting , gold - digging , girdling the trees of a new purchase , Scorch ' d ankle - deep by the hot sand , hauling my boat down the shallow river , Where the panther walks to and fro on a limb overhead , where the buck turns furiously at the hunter , Where the rattlesnake suns his flabby length on a rock , where the otter is feeding on fish , Where the alligator in his tough pimples sleeps by the bayou , Where the black bear is searching for roots or honey , where the beaver pats the mud with his paddle - shaped tall ; Over the growing sugar , over the yellow - flower ' d cotton plant , over the rice in its low moist field , Over the sharp - peak ' d farm house , with its scallop ' d scum and slender shoots from the gutters , Over the western persimmon , over the long - leav ' d corn , over the delicate blue - flower flax , Over the white and brown buckwheat , a hummer and buzzer there with the rest , Over the dusky green of the rye as it ripples and shades in the breeze ; Scaling mountains , pulling myself cautiously up , holding on by low scragged limbs , Walking the path worn in the grass and beat through the leaves of the brush , Where the quail is whistling betwixt the woods and the wheat - lot , Where the bat flies in the Seventh - month eve , where the great goldbug drops through the dark , Where the brook puts out of the roots of the old tree and flows to the meadow , Where cattle stand and shake away flies with the tremulous shuddering of their hides , Where the cheese - cloth hangs in the kitchen , where andirons straddle the hearth - slab , where cobwebs fall in festoons from the rafters ; Where trip - hammers crash , where the press is whirling its cylinders , Wherever the human heart beats with terrible throes under its ribs , Where the pear - shaped balloon is floating aloft , ( floating in it myself and looking composedly down ,) Where the life - car is drawn on the slip - noose , where the heat hatches pale - green eggs in the dented sand , Where the she - whale swims with her calf and never forsakes it , Where the steam - ship trails hind - ways its long pennant of smoke , Where the fin of the shark cuts like a black chip out of the water , Where the half - burn ' d brig is riding on unknown currents , Where shells grow to her slimy deck , where the dead are corrupting below ; Where the dense - starr ' d flag is borne at the head of the regiments , Approaching Manhattan up by the long - stretching island , Under Niagara , the cataract falling like a veil over my countenance , Upon a door - step , upon the horse - block of hard wood outside , Upon the race - course , or enjoying picnics or jigs or a good game of base - ball , At he - festivals , with blackguard gibes , ironical license , bull - dances , drinking , laughter , At the cider - mill tasting the sweets of the brown mash , sucking the juice through a straw , At apple - peelings wanting kisses for all the red fruit I find , At musters , beach - parties , friendly bees , huskings , house - raisings ; Where the mocking - bird sounds his delicious gurgles , cackles , screams , weeps , Where the hay - rick stands in the barn - yard , where the dry - stalks are scatter ' d , where the brood - cow waits in the hovel , Where the bull advances to do his masculine work , where the stud to the mare , where the cock is treading the hen , Where the heifers browse , where geese nip their food with short jerks , Where sun - down shadows lengthen over the limitless and lonesome prairie , Where herds of buffalo make a crawling spread of the square miles far and near , Where the humming - bird shimmers , where the neck of the long - lived swan is curving and winding , Where the laughing - gull scoots by the shore , where she laughs her near - human laugh , Where bee - hives range on a gray bench in the garden half hid by the high weeds , Where band - neck ' d partridges roost in a ring on the ground with their heads out , Where burial coaches enter the arch ' d gates of a cemetery , Where winter wolves bark amid wastes of snow and icicled trees , Where the yellow - crown ' d heron comes to the edge of the marsh at night and feeds upon small crabs , Where the splash of swimmers and divers cools the warm noon , Where the katy - did works her chromatic reed on the walnut - tree over the well , Through patches of citrons and cucumbers with silver - wired leaves , Through the salt - lick or orange glade , or under conical firs , Through the gymnasium , through the curtain ' d saloon , through the office or public hall ; Pleas ' d with the native and pleas ' d with the foreign , pleas ' d with the new and old , Pleas ' d with the homely woman as well as the handsome , Pleas ' d with the quakeress as she puts off her bonnet and talks melodiously , Pleas ' d with the tune of the choir of the whitewash ' d church , Pleas ' d with the earnest words of the sweating Methodist preacher , impress ' d seriously at the camp - meeting ; Looking in at the shop - windows of Broadway the whole forenoon , flatting the flesh of my nose on the thick plate glass , Wandering the same afternoon with my face turn ' d up to the clouds , or down a lane or along the beach , My right and left arms round the sides of two friends , and I in the middle ; Coming home with the silent and dark - cheek ' d bush - boy , ( behind me he rides at the drape of the day ,) Far from the settlements studying the print of animals ' feet , or the moccasin print , By the cot in the hospital reaching lemonade to a feverish patient , Nigh the coffin ' d corpse when all is still , examining with a candle ; Voyaging to every port to dicker and adventure , Hurrying with the modern crowd as eager and fickle as any , Hot toward one I hate , ready in my madness to knife him , Solitary at midnight in my back yard , my thoughts gone from me a long while , Walking the old hills of Judaea with the beautiful gentle God by my side , Speeding through space , speeding through heaven and the stars , Speeding amid the seven satellites and the broad ring , and the diameter of eighty thousand miles , Speeding with tail ' d meteors , throwing fire - balls like the rest , Carrying the crescent child that carries its own full mother in its belly , Storming , enjoying , planning , loving , cautioning , Backing and filling , appearing and disappearing , I tread day and night such roads .    0.435741\n",
      "By the city ' s quadrangular houses  in log huts , camping with lumber - men , Along the ruts of the turnpike , along the dry gulch and rivulet bed , Weeding my onion - patch or hosing rows of carrots and parsnips , crossing savannas , trailing in forests , Prospecting , gold - digging , girdling the trees of a new purchase , Scorch ' d ankle - deep by the hot sand , hauling my boat down the shallow river , Where the panther walks to and fro on a limb overhead , where the buck turns furiously at the hunter , Where the rattlesnake suns his flabby length on a rock , where the otter is feeding on fish , Where the alligator in his tough pimples sleeps by the bayou , Where the black bear is searching for roots or honey , where the beaver pats the mud with his paddle - shaped tall ; Over the growing sugar , over the yellow - flower ' d cotton plant , over the rice in its low moist field , Over the sharp - peak ' d farm house , with its scallop ' d scum and slender shoots from the gutters , Over the western persimmon , over the long - leav ' d corn , over the delicate blue - flower flax , Over the white and brown buckwheat , a hummer and buzzer there with the rest , Over the dusky green of the rye as it ripples and shades in the breeze ; Scaling mountains , pulling myself cautiously up , holding on by low scragged limbs , Walking the path worn in the grass and beat through the leaves of the brush , Where the quail is whistling betwixt the woods and the wheat - lot , Where the bat flies in the Seventh - month eve , where the great goldbug drops through the dark , Where the brook puts out of the roots of the old tree and flows to the meadow , Where cattle stand and shake away flies with the tremulous shuddering of their hides , Where the cheese - cloth hangs in the kitchen , where andirons straddle the hearth - slab , where cobwebs fall in festoons from the rafters ; Where trip - hammers crash , where the press is whirling its cylinders , Wherever the human heart beats with terrible throes under its ribs , Where the pear - shaped balloon is floating aloft , ( floating in it myself and looking composedly down ,) Where the life - car is drawn on the slip - noose , where the heat hatches pale - green eggs in the dented sand , Where the she - whale swims with her calf and never forsakes it , Where the steam - ship trails hind - ways its long pennant of smoke , Where the fin of the shark cuts like a black chip out of the water , Where the half - burn ' d brig is riding on unknown currents , Where shells grow to her slimy deck , where the dead are corrupting below ; Where the dense - starr ' d flag is borne at the head of the regiments , Approaching Manhattan up by the long - stretching island , Under Niagara , the cataract falling like a veil over my countenance , Upon a door - step , upon the horse - block of hard wood outside , Upon the race - course , or enjoying picnics or jigs or a good game of base - ball , At he - festivals , with blackguard gibes , ironical license , bull - dances , drinking , laughter , At the cider - mill tasting the sweets of the brown mash , sucking the juice through a straw , At apple - peelings wanting kisses for all the red fruit I find , At musters , beach - parties , friendly bees , huskings , house - raisings ; Where the mocking - bird sounds his delicious gurgles , cackles , screams , weeps , Where the hay - rick stands in the barn - yard , where the dry - stalks are scatter ' d , where the brood - cow waits in the hovel , Where the bull advances to do his masculine work , where the stud to the mare , where the cock is treading the hen , Where the heifers browse , where geese nip their food with short jerks , Where sun - down shadows lengthen over the limitless and lonesome prairie , Where herds of buffalo make a crawling spread of the square miles far and near , Where the humming - bird shimmers , where the neck of the long - lived swan is curving and winding , Where the laughing - gull scoots by the shore , where she laughs her near - human laugh , Where bee - hives range on a gray bench in the garden half hid by the high weeds , Where band - neck ' d partridges roost in a ring on the ground with their heads out , Where burial coaches enter the arch ' d gates of a cemetery , Where winter wolves bark amid wastes of snow and icicled trees , Where the yellow - crown ' d heron comes to the edge of the marsh at night and feeds upon small crabs , Where the splash of swimmers and divers cools the warm noon , Where the katy - did works her chromatic reed on the walnut - tree over the well , Through patches of citrons and cucumbers with silver - wired leaves , Through the salt - lick or orange glade , or under conical firs , Through the gymnasium , through the curtain ' d saloon , through the office or public hall ; Pleas ' d with the native and pleas ' d with the foreign , pleas ' d with the new and old , Pleas ' d with the homely woman as well as the handsome , Pleas ' d with the quakeress as she puts off her bonnet and talks melodiously , Pleas ' d with the tune of the choir of the whitewash ' d church , Pleas ' d with the earnest words of the sweating Methodist preacher , impress ' d seriously at the camp - meeting ; Looking in at the shop - windows of Broadway the whole forenoon , flatting the flesh of my nose on the thick plate glass , Wandering the same afternoon with my face turn ' d up to the clouds , or down a lane or along the beach , My right and left arms round the sides of two friends , and I in the middle ; Coming home with the silent and dark - cheek ' d bush - boy , ( behind me he rides at the drape of the day ,) Far from the settlements studying the print of animals ' feet , or the moccasin print , By the cot in the hospital reaching lemonade to a feverish patient , Nigh the coffin ' d corpse when all is still , examining with a candle ; Voyaging to every port to dicker and adventure , Hurrying with the modern crowd as eager and fickle as any , Hot toward one I hate , ready in my madness to knife him , Solitary at midnight in my back yard , my thoughts gone from me a long while , Walking the old hills of Judaea with the beautiful gentle God by my side , Speeding through space , speeding through heaven and the stars , Speeding amid the seven satellites and the broad ring , and the diameter of eighty thousand miles , Speeding with tail ' d meteors , throwing fire - balls like the rest , Carrying the crescent child that carries its own full mother in its belly , Storming , enjoying , planning , loving , cautioning , Backing and filling , appearing and disappearing , I tread day and night such roads .    0.435741\n"
     ]
    },
    {
     "name": "stdout",
     "output_type": "stream",
     "text": [
      "Name: 0, dtype: float64\n",
      "Component 1:\n",
      "[ BOOK X ]                   0.997126\n",
      "[ BOOK X ]                   0.997126\n",
      "[ BOOK X ]                   0.997126\n",
      "[ BOOK XXXIII .              0.996771\n",
      "[ BOOK XXVIII ]              0.996771\n",
      "[ BOOK I . INSCRIPTIONS ]    0.996771\n",
      "[ BOOK XV ]                  0.996239\n",
      "[ BOOK XV ]                  0.996239\n",
      "[ BOOK XXV ]                 0.996237\n",
      "[ BOOK XXV ]                 0.996237\n",
      "Name: 1, dtype: float64\n",
      "Component 2:\n",
      "6 What will be will be well , for what is is well , To take interest is well , and not to take interest shall be well .                                                                                                                                                                                                                                                                                                                                                                                                                                                                                                                                                                                                                                                                                                                                                                                      0.643887\n",
      "6 What will be will be well , for what is is well , To take interest is well , and not to take interest shall be well .                                                                                                                                                                                                                                                                                                                                                                                                                                                                                                                                                                                                                                                                                                                                                                                      0.643887\n",
      "6 What will be will be well , for what is is well , To take interest is well , and not to take interest shall be well .                                                                                                                                                                                                                                                                                                                                                                                                                                                                                                                                                                                                                                                                                                                                                                                      0.643887\n",
      "They shall arise in the States , They shall report Nature , laws , physiology , and happiness , They shall illustrate Democracy and the kosmos , They shall be alimentive , amative , perceptive , They shall be complete women and men , their pose brawny and supple , their drink water , their blood clean and clear , They shall fully enjoy materialism and the sight of products , they shall enjoy the sight of the beef , lumber , bread - stuffs , of Chicago the great city .                                                                                                                                                                                                                                                                                                                                                                                                                     0.603693\n",
      "Then not your deeds only O voyagers , O scientists and inventors , shall be justified , All these hearts as of fretted children shall be sooth ' d , All affection shall be fully responded to , the secret shall be told , All these separations and gaps shall be taken up and hook ' d and link ' d together , The whole earth , this cold , impassive , voiceless earth , shall be completely Justified , Trinitas divine shall be gloriously accomplish ' d and compacted by the true son of God , the poet , ( He shall indeed pass the straits and conquer the mountains , He shall double the cape of Good Hope to some purpose ,) Nature and Man shall be disjoin ' d and diffused no more , The true son of God shall absolutely fuse them .                                                                                                                                                       0.595517\n",
      "Then not your deeds only O voyagers , O scientists and inventors , shall be justified , All these hearts as of fretted children shall be sooth ' d , All affection shall be fully responded to , the secret shall be told , All these separations and gaps shall be taken up and hook ' d and link ' d together , The whole earth , this cold , impassive , voiceless earth , shall be completely Justified , Trinitas divine shall be gloriously accomplish ' d and compacted by the true son of God , the poet , ( He shall indeed pass the straits and conquer the mountains , He shall double the cape of Good Hope to some purpose ,) Nature and Man shall be disjoin ' d and diffused no more , The true son of God shall absolutely fuse them .                                                                                                                                                       0.595517\n",
      "Here shall you trace in flowing operation , In every state of practical , busy movement , the rills of civilization , Materials here under your eye shall change their shape as if by magic , The cotton shall be pick ' d almost in the very field , Shall be dried , clean ' d , ginn ' d , baled , spun into thread and cloth before you , You shall see hands at work at all the old processes and all the new ones , You shall see the various grains and how flour is made and then bread baked by the bakers , You shall see the crude ores of California and Nevada passing on and on till they become bullion , You shall watch how the printer sets type , and learn what a composing - stick is , You shall mark in amazement the Hoe press whirling its cylinders , shedding the printed leaves steady and fast , The photograph , model , watch , pin , nail , shall be created before you .    0.585453\n",
      "Here shall you trace in flowing operation , In every state of practical , busy movement , the rills of civilization , Materials here under your eye shall change their shape as if by magic , The cotton shall be pick ' d almost in the very field , Shall be dried , clean ' d , ginn ' d , baled , spun into thread and cloth before you , You shall see hands at work at all the old processes and all the new ones , You shall see the various grains and how flour is made and then bread baked by the bakers , You shall see the crude ores of California and Nevada passing on and on till they become bullion , You shall watch how the printer sets type , and learn what a composing - stick is , You shall mark in amazement the Hoe press whirling its cylinders , shedding the printed leaves steady and fast , The photograph , model , watch , pin , nail , shall be created before you .    0.585453\n",
      "Here shall you trace in flowing operation , In every state of practical , busy movement , the rills of civilization , Materials here under your eye shall change their shape as if by magic , The cotton shall be pick ' d almost in the very field , Shall be dried , clean ' d , ginn ' d , baled , spun into thread and cloth before you , You shall see hands at work at all the old processes and all the new ones , You shall see the various grains and how flour is made and then bread baked by the bakers , You shall see the crude ores of California and Nevada passing on and on till they become bullion , You shall watch how the printer sets type , and learn what a composing - stick is , You shall mark in amazement the Hoe press whirling its cylinders , shedding the printed leaves steady and fast , The photograph , model , watch , pin , nail , shall be created before you .    0.585453\n",
      "Here shall you trace in flowing operation , In every state of practical , busy movement , the rills of civilization , Materials here under your eye shall change their shape as if by magic , The cotton shall be pick ' d almost in the very field , Shall be dried , clean ' d , ginn ' d , baled , spun into thread and cloth before you , You shall see hands at work at all the old processes and all the new ones , You shall see the various grains and how flour is made and then bread baked by the bakers , You shall see the crude ores of California and Nevada passing on and on till they become bullion , You shall watch how the printer sets type , and learn what a composing - stick is , You shall mark in amazement the Hoe press whirling its cylinders , shedding the printed leaves steady and fast , The photograph , model , watch , pin , nail , shall be created before you .    0.585453\n"
     ]
    },
    {
     "name": "stdout",
     "output_type": "stream",
     "text": [
      "Name: 2, dtype: float64\n",
      "Component 3:\n",
      "} Thought                                  0.934488\n",
      "} Thought                                  0.934488\n",
      "} Thought                                  0.934488\n",
      "} Thought                                  0.934488\n",
      "} Thought                                  0.934488\n",
      "} Thought                                  0.934488\n",
      "} Thought                                  0.934488\n",
      "} Thought                                  0.934488\n",
      "} Thought                                  0.934488\n",
      "Why what have you thought of yourself ?    0.934488\n",
      "Name: 3, dtype: float64\n",
      "Component 4:\n",
      "6 What will be will be well , for what is is well , To take interest is well , and not to take interest shall be well .                                                                                                                                                                                                                                                                                                                                                                                                                                                                                                                                                                                                                                                                                                                                                                                      0.642541\n",
      "6 What will be will be well , for what is is well , To take interest is well , and not to take interest shall be well .                                                                                                                                                                                                                                                                                                                                                                                                                                                                                                                                                                                                                                                                                                                                                                                      0.642541\n",
      "6 What will be will be well , for what is is well , To take interest is well , and not to take interest shall be well .                                                                                                                                                                                                                                                                                                                                                                                                                                                                                                                                                                                                                                                                                                                                                                                      0.642541\n",
      "Then not your deeds only O voyagers , O scientists and inventors , shall be justified , All these hearts as of fretted children shall be sooth ' d , All affection shall be fully responded to , the secret shall be told , All these separations and gaps shall be taken up and hook ' d and link ' d together , The whole earth , this cold , impassive , voiceless earth , shall be completely Justified , Trinitas divine shall be gloriously accomplish ' d and compacted by the true son of God , the poet , ( He shall indeed pass the straits and conquer the mountains , He shall double the cape of Good Hope to some purpose ,) Nature and Man shall be disjoin ' d and diffused no more , The true son of God shall absolutely fuse them .                                                                                                                                                       0.579417\n",
      "Then not your deeds only O voyagers , O scientists and inventors , shall be justified , All these hearts as of fretted children shall be sooth ' d , All affection shall be fully responded to , the secret shall be told , All these separations and gaps shall be taken up and hook ' d and link ' d together , The whole earth , this cold , impassive , voiceless earth , shall be completely Justified , Trinitas divine shall be gloriously accomplish ' d and compacted by the true son of God , the poet , ( He shall indeed pass the straits and conquer the mountains , He shall double the cape of Good Hope to some purpose ,) Nature and Man shall be disjoin ' d and diffused no more , The true son of God shall absolutely fuse them .                                                                                                                                                       0.579417\n",
      "Here shall you trace in flowing operation , In every state of practical , busy movement , the rills of civilization , Materials here under your eye shall change their shape as if by magic , The cotton shall be pick ' d almost in the very field , Shall be dried , clean ' d , ginn ' d , baled , spun into thread and cloth before you , You shall see hands at work at all the old processes and all the new ones , You shall see the various grains and how flour is made and then bread baked by the bakers , You shall see the crude ores of California and Nevada passing on and on till they become bullion , You shall watch how the printer sets type , and learn what a composing - stick is , You shall mark in amazement the Hoe press whirling its cylinders , shedding the printed leaves steady and fast , The photograph , model , watch , pin , nail , shall be created before you .    0.552804\n",
      "Here shall you trace in flowing operation , In every state of practical , busy movement , the rills of civilization , Materials here under your eye shall change their shape as if by magic , The cotton shall be pick ' d almost in the very field , Shall be dried , clean ' d , ginn ' d , baled , spun into thread and cloth before you , You shall see hands at work at all the old processes and all the new ones , You shall see the various grains and how flour is made and then bread baked by the bakers , You shall see the crude ores of California and Nevada passing on and on till they become bullion , You shall watch how the printer sets type , and learn what a composing - stick is , You shall mark in amazement the Hoe press whirling its cylinders , shedding the printed leaves steady and fast , The photograph , model , watch , pin , nail , shall be created before you .    0.552804\n",
      "Here shall you trace in flowing operation , In every state of practical , busy movement , the rills of civilization , Materials here under your eye shall change their shape as if by magic , The cotton shall be pick ' d almost in the very field , Shall be dried , clean ' d , ginn ' d , baled , spun into thread and cloth before you , You shall see hands at work at all the old processes and all the new ones , You shall see the various grains and how flour is made and then bread baked by the bakers , You shall see the crude ores of California and Nevada passing on and on till they become bullion , You shall watch how the printer sets type , and learn what a composing - stick is , You shall mark in amazement the Hoe press whirling its cylinders , shedding the printed leaves steady and fast , The photograph , model , watch , pin , nail , shall be created before you .    0.552804\n",
      "Here shall you trace in flowing operation , In every state of practical , busy movement , the rills of civilization , Materials here under your eye shall change their shape as if by magic , The cotton shall be pick ' d almost in the very field , Shall be dried , clean ' d , ginn ' d , baled , spun into thread and cloth before you , You shall see hands at work at all the old processes and all the new ones , You shall see the various grains and how flour is made and then bread baked by the bakers , You shall see the crude ores of California and Nevada passing on and on till they become bullion , You shall watch how the printer sets type , and learn what a composing - stick is , You shall mark in amazement the Hoe press whirling its cylinders , shedding the printed leaves steady and fast , The photograph , model , watch , pin , nail , shall be created before you .    0.552804\n",
      "They shall arise in the States , They shall report Nature , laws , physiology , and happiness , They shall illustrate Democracy and the kosmos , They shall be alimentive , amative , perceptive , They shall be complete women and men , their pose brawny and supple , their drink water , their blood clean and clear , They shall fully enjoy materialism and the sight of products , they shall enjoy the sight of the beef , lumber , bread - stuffs , of Chicago the great city .                                                                                                                                                                                                                                                                                                                                                                                                                     0.533072\n"
     ]
    },
    {
     "name": "stdout",
     "output_type": "stream",
     "text": [
      "Name: 4, dtype: float64\n"
     ]
    }
   ],
   "source": [
    "from sklearn.decomposition import TruncatedSVD\n",
    "from sklearn.pipeline import make_pipeline\n",
    "from sklearn.preprocessing import Normalizer\n",
    "\n",
    "#Our SVD data reducer.  We are going to reduce the feature space from 1379 to 130.\n",
    "svd= TruncatedSVD(250)\n",
    "lsa = make_pipeline(svd, Normalizer(copy=False))\n",
    "# Run SVD on the training data, then project the training data.\n",
    "X_train_lsa = lsa.fit_transform(X_train_tfidf)\n",
    "\n",
    "variance_explained=svd.explained_variance_ratio_\n",
    "total_variance = variance_explained.sum()\n",
    "print(\"Percent variance captured by all components:\",total_variance*100)\n",
    "\n",
    "#Looking at what sorts of paragraphs our solution considers similar, for the first five identified topics\n",
    "paras_by_component=pd.DataFrame(X_train_lsa,index=X_train)\n",
    "for i in range(5):\n",
    "    print('Component {}:'.format(i))\n",
    "    print(paras_by_component.loc[:,i].sort_values(ascending=False)[0:10])"
   ]
  },
  {
   "cell_type": "markdown",
   "metadata": {},
   "source": [
    "## Percent of variance captured: 35.6% \n",
    "\n",
    "Component 0: Very large portions of text, roughly 30 lines (sentences). Poorly captured\n",
    "\n",
    "Component 1: Contains the chapter headings. This is captured very well with 99% accuracy. \n",
    "\n",
    "Component 2: Again very high capturing of the variance at 97.7%\n",
    "\n",
    "Component 3: Shorter sentences (2) \n",
    "\n",
    "Component 4: Life/Death again has an accuracy at 64%. "
   ]
  },
  {
   "cell_type": "code",
   "execution_count": 114,
   "metadata": {},
   "outputs": [
    {
     "data": {
      "image/png": "[encoded data removed]",
      "text/plain": [
       "<Figure size 432x288 with 2 Axes>"
      ]
     },
     "metadata": {},
     "output_type": "display_data"
    },
    {
     "name": "stdout",
     "output_type": "stream",
     "text": [
      "Key:\n",
      "0 [ BOOK XXXI ]\n",
      "1 O to make the most jubilant song !\n",
      "2 I seize the descending man and raise him with resistless will , O despairer , here is my neck , By God , you shall not go down !\n",
      "3 } As I Ponder ' d in Silence\n",
      "4 } Vocalism\n",
      "5 The wife , and she is not one jot less than the husband , The daughter , and she is just as good as the son , The mother , and she is every bit as much as the father .\n",
      "6 } Laws for Creations\n",
      "7 How curious !\n",
      "8 In one , the sacred parturition scene , A happy painless mother birth ' d a perfect child .\n",
      "9 Life ' s involv ' d and varied pageants , All the forms and shows , all the workmen at their work , All the seamen and the landsmen , all the masters with their slaves , Pioneers !\n",
      "10 I saw the marriage of the trapper in the open air in the far west , the bride was a red girl , Her father and his friends sat near cross - legged and dumbly smoking , they had moccasins to their feet and large thick blankets hanging from their shoulders , On a bank lounged the trapper , he was drest mostly in skins , his luxuriant beard and curls protected his neck , he held his bride by the hand , She had long eyelashes , her head was bare , her coarse straight locks descended upon her voluptuous limbs and reach ' d to her feet .\n",
      "11 } Small the Theme of My Chant\n",
      "12 The female contains all qualities and tempers them , She is in her place and moves with perfect balance , She is all things duly veil ' d , she is both passive and active , She is to conceive daughters as well as sons , and sons as well as daughters .\n",
      "13 My head slues round on my neck , Music rolls , but not from the organ , Folks are around me , but they are no household of mine .\n",
      "14 The boy I love , the same becomes a man not through derived power , but in his own right , Wicked rather than virtuous out of conformity or fear , Fond of his sweetheart , relishing well his steak , Unrequited love or a slight cutting him worse than sharp steel cuts , First - rate to ride , to fight , to hit the bull ' s eye , to sail a skiff , to sing a song or play on the banjo , Preferring scars and the beard and faces pitted with small - pox over all latherers , And those well - tann ' d to those that keep out of the sun .\n",
      "15 What chemistry !\n",
      "16 What ship puzzled at sea , cons for the true reckoning ?\n",
      "17 3 I swear the earth shall surely be complete to him or her who shall be complete , The earth remains jagged and broken only to him or her who remains jagged and broken .\n",
      "18 The aria sinking , All else continuing , the stars shining , The winds blowing , the notes of the bird continuous echoing , With angry moans the fierce old mother incessantly moaning , On the sands of Paumanok ' s shore gray and rustling , The yellow half - moon enlarged , sagging down , drooping , the face of the sea almost touching , The boy ecstatic , with his bare feet the waves , with his hair the atmosphere dallying , The love in the heart long pent , now loose , now at last tumultuously bursting , The aria ' s meaning , the ears , the soul , swiftly depositing , The strange tears down the cheeks coursing , The colloquy there , the trio , each uttering , The undertone , the savage old mother incessantly crying , To the boy ' s soul ' s questions sullenly timing , some drown ' d secret hissing , To the outsetting bard .\n",
      "19 } Old Salt Kossabone\n",
      "20 Do not be decoy ' d elsewhere , That is the whistle of the wind , it is not my voice , That is the fluttering , the fluttering of the spray , Those are the shadows of leaves .\n",
      "21 5 The place where a great city stands is not the place of stretch ' d wharves , docks , manufactures , deposits of produce merely , Nor the place of ceaseless salutes of new - comers or the anchor - lifters of the departing , Nor the place of the tallest and costliest buildings or shops selling goods from the rest of the earth , Nor the place of the best libraries and schools , nor the place where money is plentiest , Nor the place of the most numerous population .\n",
      "22 This latent mine  these unlaunch ' d voices  passionate powers , Wrath , argument , or praise , or comic leer , or prayer devout , ( Not nonpareil , brevier , bourgeois , long primer merely ,) These ocean waves arousable to fury and to death , Or sooth ' d to ease and sheeny sun and sleep , Within the pallid slivers slumbering .\n",
      "23 O to have been brought up on bays , lagoons , creeks , or along the coast , To continue and be employ ' d there all my life , The briny and damp smell , the shore , the salt weeds exposed at low water , The work of fishermen , the work of the eel - fisher and clam - fisher ; I come with my clam - rake and spade , I come with my eel - spear , Is the tide out ?\n",
      "24 47 I am the teacher of athletes , He that by me spreads a wider breast than my own proves the width of my own , He most honors my style who learns under it to destroy the teacher .\n"
     ]
    }
   ],
   "source": [
    "# Compute document similarity using LSA components\n",
    "similarity = np.asarray(np.asmatrix(X_train_lsa) * np.asmatrix(X_train_lsa).T)\n",
    "#Only taking the first 10 sentences\n",
    "sim_matrix=pd.DataFrame(similarity,index=X_train).iloc[0:25,0:25]\n",
    "#Making a plot\n",
    "ax = sns.heatmap(sim_matrix,yticklabels=range(25))\n",
    "plt.show()\n",
    "\n",
    "#Generating a key for the plot.\n",
    "print('Key:')\n",
    "for i in range(25):\n",
    "    print(i,sim_matrix.index[i])"
   ]
  },
  {
   "cell_type": "markdown",
   "metadata": {},
   "source": [
    "### Correlation heatmap\n",
    "\n",
    "Very low correlations between the first 25 sentences. The correlation values are 0.40 (highest) or lower."
   ]
  },
  {
   "cell_type": "markdown",
   "metadata": {},
   "source": [
    "# Blake\n",
    "\n",
    "## Blake tfid vectorizer"
   ]
  },
  {
   "cell_type": "code",
   "execution_count": 115,
   "metadata": {},
   "outputs": [
    {
     "name": "stdout",
     "output_type": "stream",
     "text": [
      "['[ Poems by William Blake 1789 ]', 'SONGS OF INNOCENCE AND OF EXPERIENCE and THE BOOK of THEL', 'SONGS OF INNOCENCE', 'INTRODUCTION']\n"
     ]
    }
   ],
   "source": [
    "for paragraph in blake:\n",
    "    para=paragraph[0]\n",
    "    #removing the double-dash from all words\n",
    "    para=[re.sub(r'--','',word) for word in para]\n",
    "    #Forming each paragraph into a string and adding it to the list of strings.\n",
    "    blake_paras.append(' '.join(para))\n",
    "\n",
    "print(blake_paras[0:4])"
   ]
  },
  {
   "cell_type": "code",
   "execution_count": 116,
   "metadata": {},
   "outputs": [],
   "source": [
    "from sklearn.feature_extraction.text import TfidfVectorizer\n",
    "\n",
    "X_train, X_test = train_test_split(blake_paras, test_size=0.40, random_state=0)\n",
    "\n",
    "vectorizer = TfidfVectorizer(max_df=0.5, # drop words that occur in more than half the paragraphs\n",
    "                             min_df=2, # only use words that appear at least twice\n",
    "                             stop_words='english', \n",
    "                             lowercase=True, #convert everything to lower case (since Alice in Wonderland has the HABIT of CAPITALIZING WORDS for EMPHASIS)\n",
    "                             use_idf=True,#we definitely want to use inverse document frequencies in our weighting\n",
    "                             norm=u'l2', #Applies a correction factor so that longer paragraphs and shorter paragraphs get treated equally\n",
    "                             smooth_idf=True #Adds 1 to all document frequencies, as if an extra document existed that used every word once.  Prevents divide-by-zero errors\n",
    "                            )"
   ]
  },
  {
   "cell_type": "code",
   "execution_count": 117,
   "metadata": {},
   "outputs": [
    {
     "name": "stdout",
     "output_type": "stream",
     "text": [
      "Number of features: 404\n",
      "Original sentence: Farewell , green fields and happy grove , Where flocks have ta ' en delight .\n",
      "Tf_idf vector: {'flocks': 0.46672519749728086, 'fields': 0.46672519749728086, 'grove': 0.4425495676260918, 'delight': 0.35022666465050994, 'green': 0.3575387464453752, 'happy': 0.34350020144718485}\n"
     ]
    }
   ],
   "source": [
    "#Applying the vectorizer\n",
    "blake_paras_tfidf=vectorizer.fit_transform(blake_paras)\n",
    "print(\"Number of features: %d\" % blake_paras_tfidf.get_shape()[1])\n",
    "\n",
    "#splitting into training and test sets\n",
    "X_train_tfidf, X_test_tfidf= train_test_split(blake_paras_tfidf, test_size=0.4, random_state=0)\n",
    "\n",
    "\n",
    "#Reshapes the vectorizer output into something people can read\n",
    "X_train_tfidf_csr = X_train_tfidf.tocsr()\n",
    "\n",
    "#number of paragraphs\n",
    "n = X_train_tfidf_csr.shape[0]\n",
    "#A list of dictionaries, one per paragraph\n",
    "tfidf_bypara = [{} for _ in range(0,n)]\n",
    "#List of features\n",
    "terms = vectorizer.get_feature_names()\n",
    "#for each paragraph, lists the feature words and their tf-idf scores\n",
    "for i, j in zip(*X_train_tfidf_csr.nonzero()):\n",
    "    tfidf_bypara[i][terms[j]] = X_train_tfidf_csr[i, j]\n",
    "\n",
    "#Keep in mind that the log base 2 of 1 is 0, so a tf-idf score of 0 indicates that the word was present once in that sentence.\n",
    "print('Original sentence:', X_train[3])\n",
    "print('Tf_idf vector:', tfidf_bypara[3])"
   ]
  },
  {
   "cell_type": "code",
   "execution_count": 118,
   "metadata": {},
   "outputs": [
    {
     "name": "stdout",
     "output_type": "stream",
     "text": [
      "Percent variance captured by all components: 97.27473447165617\n",
      "Component 0:\n",
      "A LITTLE BOY LOST                                                                                                                                         0.829379\n",
      "THE LITTLE BOY LOST                                                                                                                                       0.829379\n",
      "THE LITTLE BOY FOUND                                                                                                                                      0.738615\n",
      "A LITTLE GIRL LOST                                                                                                                                        0.702563\n",
      "THE LITTLE GIRL LOST                                                                                                                                      0.702563\n",
      "THE LITTLE BLACK BOY                                                                                                                                      0.642397\n",
      "THE LITTLE GIRL FOUND                                                                                                                                     0.559408\n",
      "The little boy lost in the lonely fen , Led by the wandering light , Began to cry , but God , ever nigh , Appeared like his father , in white .           0.520594\n",
      "\" Lost in desert wild Is your little child .                                                                                                              0.518160\n",
      "He kissed the child , and by the hand led , And to his mother brought , Who in sorrow pale , through the lonely dale , The little boy weeping sought .    0.366757\n",
      "Name: 0, dtype: float64\n",
      "Component 1:\n",
      "And I wept both night and day , And he wiped my tears away ; And I wept both day and night , And hid from him my heart ' s delight .                                         0.438081\n",
      "And not sit both night and day , Wiping all our tears away ?                                                                                                                 0.425334\n",
      "THE BOOK of THEL                                                                                                                                                             0.417099\n",
      "THE BOOK of THEL                                                                                                                                                             0.417099\n",
      "NIGHT                                                                                                                                                                        0.390439\n",
      "THEL                                                                                                                                                                         0.390099\n",
      "THEL ' S Motto                                                                                                                                                               0.390099\n",
      "Then come home , my children , the sun is gone down , And the dews of night arise ; Your spring and your day are wasted in play , And your winter and night in disguise .    0.333511\n",
      "Sweet smiles , in the night Hover over my delight !                                                                                                                          0.328486\n",
      "SONGS OF INNOCENCE AND OF EXPERIENCE and THE BOOK of THEL                                                                                                                    0.325143\n",
      "Name: 1, dtype: float64\n",
      "Component 2:\n",
      "THE BOOK of THEL                                                                                                                                                                         0.778028\n",
      "THE BOOK of THEL                                                                                                                                                                         0.778028\n",
      "THEL                                                                                                                                                                                     0.770114\n",
      "THEL ' S Motto                                                                                                                                                                           0.770114\n",
      "SONGS OF INNOCENCE AND OF EXPERIENCE and THE BOOK of THEL                                                                                                                                0.599888\n",
      "Then Thel astonish ' d view ' d the Worm upon its dewy bed .                                                                                                                             0.408348\n",
      "Thel answerd , O thou little virgin of the peaceful valley .                                                                                                                             0.386287\n",
      "O little Cloud the virgin said , I charge thee to tell me Why thou complainest now when in one hour thou fade away : Then we shall seek thee but not find : ah Thel is like to thee .    0.160390\n",
      "SONGS OF INNOCENCE                                                                                                                                                                       0.139644\n",
      "SONGS OF EXPERIENCE                                                                                                                                                                      0.139641\n",
      "Name: 2, dtype: float64\n",
      "Component 3:\n",
      "INFANT SORROW                                                                                                                                                            0.527132\n",
      "Can a mother sit and hear An infant groan , an infant fear ?                                                                                                             0.520631\n",
      "INFANT JOY                                                                                                                                                               0.499100\n",
      "He doth give his joy to all : He becomes an infant small , He becomes a man of woe , He doth feel the sorrow too .                                                       0.355514\n",
      "In every cry of every man , In every infant ' s cry of fear , In every voice , in every ban , The mind - forged manacles I hear :                                        0.352093\n",
      "Wept for me , for thee , for all , When He was an infant small .                                                                                                         0.351108\n",
      "Sweet dreams , form a shade O ' er my lovely infant ' s head !                                                                                                           0.351094\n",
      "But most , through midnight streets I hear How the youthful harlot ' s curse Blasts the new - born infant ' s tear , And blights with plagues the marriage - hearse .    0.314037\n",
      "ON ANOTHER ' S SORROW                                                                                                                                                    0.240816\n",
      "Sweet Sleep , with soft down Weave thy brows an infant crown Sweet Sleep , angel mild , Hover o ' er my happy child !                                                    0.231391\n",
      "Name: 3, dtype: float64\n",
      "Component 4:\n",
      "INFANT SORROW                                                                                                                                                            0.513211\n",
      "Can a mother sit and hear An infant groan , an infant fear ?                                                                                                             0.491886\n",
      "INFANT JOY                                                                                                                                                               0.439328\n",
      "He doth give his joy to all : He becomes an infant small , He becomes a man of woe , He doth feel the sorrow too .                                                       0.320726\n",
      "And not sit both night and day , Wiping all our tears away ?                                                                                                             0.314068\n",
      "And not sit beside the next , Pouring pity in their breast , And not sit the cradle near , Weeping tear on infant ' s tear ?                                             0.309203\n",
      "But most , through midnight streets I hear How the youthful harlot ' s curse Blasts the new - born infant ' s tear , And blights with plagues the marriage - hearse .    0.293549\n",
      "In every cry of every man , In every infant ' s cry of fear , In every voice , in every ban , The mind - forged manacles I hear :                                        0.290725\n",
      "Wept for me , for thee , for all , When He was an infant small .                                                                                                         0.282367\n",
      "NIGHT                                                                                                                                                                    0.267243\n"
     ]
    },
    {
     "name": "stdout",
     "output_type": "stream",
     "text": [
      "Name: 4, dtype: float64\n"
     ]
    }
   ],
   "source": [
    "from sklearn.decomposition import TruncatedSVD\n",
    "from sklearn.pipeline import make_pipeline\n",
    "from sklearn.preprocessing import Normalizer\n",
    "\n",
    "#Our SVD data reducer.  We are going to reduce the feature space from 1379 to 130.\n",
    "svd= TruncatedSVD(130)\n",
    "lsa = make_pipeline(svd, Normalizer(copy=False))\n",
    "# Run SVD on the training data, then project the training data.\n",
    "X_train_lsa = lsa.fit_transform(X_train_tfidf)\n",
    "\n",
    "variance_explained=svd.explained_variance_ratio_\n",
    "total_variance = variance_explained.sum()\n",
    "print(\"Percent variance captured by all components:\",total_variance*100)\n",
    "\n",
    "#Looking at what sorts of paragraphs our solution considers similar, for the first five identified topics\n",
    "paras_by_component=pd.DataFrame(X_train_lsa,index=X_train)\n",
    "for i in range(5):\n",
    "    print('Component {}:'.format(i))\n",
    "    print(paras_by_component.loc[:,i].sort_values(ascending=False)[0:10])"
   ]
  },
  {
   "cell_type": "markdown",
   "metadata": {},
   "source": [
    "## **Percent of variance captured: 97%**\n",
    "\n",
    "Component 0: Variations of the words \"A little boy lost\" at 82.9% the least accurate was \"He kissed the child , and by the hand led , And to his mother brought , Who in sorrow pale , through the lonely dale , The little boy weeping sought\" at 36.6% \n",
    "Overall component values ranged from 82.9% to 36.6% with an average = 64.1% \n",
    "\n",
    "Component 1: The accuracy values are much lower in component 1. Range from 43.7% to 32.5% \n",
    "average = 38.% \n",
    "\n",
    "Component 2: The accuracy value are consistent for 4 of the trials. Range from 77.8% to 13.9%\n",
    "average = 49.2% \n",
    "\n",
    "Component 3:  The accuracy values are low similar to component 1. \n",
    "average = 37.4%\n",
    "\n",
    "Component 4: Contains the lowest accuracy ranging from 51% to 26% with an average of 35.2% \n"
   ]
  },
  {
   "cell_type": "code",
   "execution_count": 119,
   "metadata": {},
   "outputs": [
    {
     "data": {
      "image/png": "[encoded data removed]",
      "text/plain": [
       "<Figure size 432x288 with 2 Axes>"
      ]
     },
     "metadata": {},
     "output_type": "display_data"
    },
    {
     "name": "stdout",
     "output_type": "stream",
     "text": [
      "Key:\n",
      "0 Then come home , my children , the sun is gone down , And the dews of night arise ; Your spring and your day are wasted in play , And your winter and night in disguise .\n",
      "1 HOLY THURSDAY\n",
      "2 \" Does spring hide its joy , When buds and blossoms grow ?\n",
      "3 Farewell , green fields and happy grove , Where flocks have ta ' en delight .\n",
      "4 Sweet babe , in thy face Holy image I can trace ; Sweet babe , once like thee Thy Maker lay , and wept for me :\n",
      "5 The sun descending in the west , The evening star does shine ; The birds are silent in their nest , And I must seek for mine .\n",
      "6 I ' ll shade him from the heat till he can bear To lean in joy upon our Father ' s knee ; And then I ' ll stand and stroke his silver hair , And be like him , and he will then love me .\n",
      "7 \" Sweet sleep , come to me Underneath this tree ; Do father , mother , weep ?\n",
      "8 The modest Rose puts forth a thorn , The humble sheep a threat ' ning horn : While the Lily white shall in love delight , Nor a thorn nor a threat stain her beauty bright .\n",
      "9 So he took his wings , and fled ; Then the morn blushed rosy red .\n",
      "10 The Cloud then shewd his golden head & his bright form emerg ' d .\n",
      "11 The little boy lost in the lonely fen , Led by the wandering light , Began to cry , but God , ever nigh , Appeared like his father , in white .\n",
      "12 INFANT SORROW\n",
      "13 The sun does arise , And make happy the skies ; The merry bells ring To welcome the Spring ; The skylark and thrush , The birds of the bush , Sing louder around To the bells ' cheerful sound ; While our sports shall be seen On the echoing Green .\n",
      "14 \" Selfish father of men !\n",
      "15 THE LILY\n",
      "16 INTRODUCTION\n",
      "17 \" Follow me ,\" he said ; \" Weep not for the maid ; In my palace deep , Lyca lies asleep .\"\n",
      "18 \" Lost in desert wild Is your little child .\n",
      "19 \" For when our souls have learn ' d the heat to bear , The cloud will vanish , we shall hear His voice , Saying , ' Come out from the grove , my love and care And round my golden tent like lambs rejoice ',\"\n",
      "20 When my mother died I was very young , And my father sold me while yet my tongue Could scarcely cry \" Weep !\n",
      "21 When the voices of children are heard on the green , And laughing is heard on the hill , My heart is at rest within my breast , And everything else is still .\n",
      "22 O little Cloud the virgin said , I charge thee to tell me Why thou complainest now when in one hour thou fade away : Then we shall seek thee but not find : ah Thel is like to thee .\n",
      "23 And what shoulder and what art Could twist the sinews of thy heart ?\n",
      "24 THE LITTLE BLACK BOY\n"
     ]
    }
   ],
   "source": [
    "# Compute document similarity using LSA components\n",
    "similarity = np.asarray(np.asmatrix(X_train_lsa) * np.asmatrix(X_train_lsa).T)\n",
    "#Only taking the first 10 sentences\n",
    "sim_matrix=pd.DataFrame(similarity,index=X_train).iloc[0:25,0:25]\n",
    "#Making a plot\n",
    "ax = sns.heatmap(sim_matrix,yticklabels=range(25))\n",
    "plt.show()\n",
    "\n",
    "#Generating a key for the plot.\n",
    "print('Key:')\n",
    "for i in range(25):\n",
    "    print(i,sim_matrix.index[i])"
   ]
  },
  {
   "cell_type": "markdown",
   "metadata": {},
   "source": [
    "### Correlation heatmap \n",
    "\n",
    "There is a slight correlation between sentence 7 and 20 near a 0.60. Overall the correlations are less then that obeserved in Whitman text. "
   ]
  },
  {
   "cell_type": "markdown",
   "metadata": {},
   "source": [
    "# Discussion\n",
    "\n",
    "The unsupervised TfidfVectorizer out performed the supervised models only with the text analysis of Blake. The TfidfVectorizer model caputed 97% of the variance in the model. Whereas the Whitman text only captured 29% on the first pass and 35% when change the number of features. \n",
    "\n"
   ]
  },
  {
   "cell_type": "code",
   "execution_count": null,
   "metadata": {},
   "outputs": [],
   "source": []
  }
 ],
 "metadata": {
  "kernelspec": {
   "display_name": "Python 3",
   "language": "python",
   "name": "python3"
  },
  "language_info": {
   "codemirror_mode": {
    "name": "ipython",
    "version": 3
   },
   "file_extension": ".py",
   "mimetype": "text/x-python",
   "name": "python",
   "nbconvert_exporter": "python",
   "pygments_lexer": "ipython3",
   "version": "3.6.5"
  }
 },
 "nbformat": 4,
 "nbformat_minor": 2
}
