{
 "cells": [
  {
   "cell_type": "code",
   "execution_count": 23,
   "metadata": {},
   "outputs": [
    {
     "name": "stdout",
     "output_type": "stream",
     "text": [
      "[nltk_data] Downloading package punkt to\n",
      "[nltk_data]     C:\\Users\\mille\\AppData\\Roaming\\nltk_data...\n",
      "[nltk_data]   Package punkt is already up-to-date!\n",
      "[nltk_data] Downloading package gutenberg to\n",
      "[nltk_data]     C:\\Users\\mille\\AppData\\Roaming\\nltk_data...\n",
      "[nltk_data]   Package gutenberg is already up-to-date!\n"
     ]
    }
   ],
   "source": [
    "import numpy as np\n",
    "import pandas as pd\n",
    "import scipy\n",
    "import matplotlib.pyplot as plt\n",
    "import seaborn as sns\n",
    "%matplotlib inline\n",
    "\n",
    "import nltk\n",
    "from nltk.corpus import gutenberg\n",
    "nltk.download('punkt')\n",
    "nltk.download('gutenberg')\n",
    "import re\n",
    "from sklearn.model_selection import train_test_split"
   ]
  },
  {
   "cell_type": "code",
   "execution_count": 24,
   "metadata": {},
   "outputs": [
    {
     "name": "stdout",
     "output_type": "stream",
     "text": [
      "showing info https://raw.githubusercontent.com/nltk/nltk_data/gh-pages/index.xml\n"
     ]
    },
    {
     "data": {
      "text/plain": [
       "True"
      ]
     },
     "execution_count": 24,
     "metadata": {},
     "output_type": "execute_result"
    }
   ],
   "source": [
    "import nltk\n",
    "nltk.download()"
   ]
  },
  {
   "cell_type": "code",
   "execution_count": 25,
   "metadata": {
    "run_control": {
     "marked": false
    }
   },
   "outputs": [],
   "source": [
    "#reading in the data, this time in the form of paragraphs\n",
    "emma=gutenberg.paras('austen-emma.txt')\n",
    "#processingwnload()\n",
    "\n",
    "emma_paras=[]"
   ]
  },
  {
   "cell_type": "code",
   "execution_count": 26,
   "metadata": {},
   "outputs": [
    {
     "name": "stdout",
     "output_type": "stream",
     "text": [
      "['[ Emma by Jane Austen 1816 ]', 'VOLUME I', 'CHAPTER I', 'Emma Woodhouse , handsome , clever , and rich , with a comfortable home and happy disposition , seemed to unite some of the best blessings of existence ; and had lived nearly twenty - one years in the world with very little to distress or vex her .']\n"
     ]
    }
   ],
   "source": [
    "\n",
    "for paragraph in emma:\n",
    "    para=paragraph[0]\n",
    "    #removing the double-dash from all words\n",
    "    para=[re.sub(r'--','',word) for word in para]\n",
    "    #Forming each paragraph into a string and adding it to the list of strings.\n",
    "    emma_paras.append(' '.join(para))\n",
    "\n",
    "print(emma_paras[0:4])"
   ]
  },
  {
   "cell_type": "markdown",
   "metadata": {},
   "source": [
    "# tfidf in sklearn"
   ]
  },
  {
   "cell_type": "code",
   "execution_count": 27,
   "metadata": {},
   "outputs": [],
   "source": [
    "\n",
    "from sklearn.feature_extraction.text import TfidfVectorizer\n",
    "\n",
    "X_train, X_test = train_test_split(emma_paras, test_size=0.40, random_state=0)\n",
    "\n",
    "vectorizer = TfidfVectorizer(max_df=0.5, # drop words that occur in more than half the paragraphs\n",
    "                             min_df=2, # only use words that appear at least twice\n",
    "                             stop_words='english', \n",
    "                             lowercase=True, #convert everything to lower case (since Alice in Wonderland has the HABIT of CAPITALIZING WORDS for EMPHASIS)\n",
    "                             use_idf=True,#we definitely want to use inverse document frequencies in our weighting\n",
    "                             norm=u'l2', #Applies a correction factor so that longer paragraphs and shorter paragraphs get treated equally\n",
    "                             smooth_idf=True #Adds 1 to all document frequencies, as if an extra document existed that used every word once.  Prevents divide-by-zero errors\n",
    "                            )"
   ]
  },
  {
   "cell_type": "code",
   "execution_count": 28,
   "metadata": {},
   "outputs": [
    {
     "name": "stdout",
     "output_type": "stream",
     "text": [
      "Number of features: 1948\n",
      "Original sentence: To restrain him as much as might be , by her own manners , she was immediately preparing to speak with exquisite calmness and gravity of the weather and the night ; but scarcely had she begun , scarcely had they passed the sweep - gate and joined the other carriage , than she found her subject cut up  her hand seized  her attention demanded , and Mr . Elton actually making violent love to her : availing himself of the precious opportunity , declaring sentiments which must be already well known , hoping  fearing  adoring  ready to die if she refused him ; but flattering himself that his ardent attachment and unequalled love and unexampled passion could not fail of having some effect , and in short , very much resolved on being seriously accepted as soon as possible .\n",
      "Tf_idf vector: {'accepted': 0.15893875642089123, 'seriously': 0.14850853274134498, 'resolved': 0.15489271400624896, 'effect': 0.1514718338876578, 'fail': 0.16389071212512824, 'ardent': 0.1702748933900322, 'refused': 0.1702748933900322, 'die': 0.1702748933900322, 'hoping': 0.1702748933900322, 'sentiments': 0.16389071212512824, 'seized': 0.16389071212512824, 'cut': 0.15489271400624896, 'joined': 0.15893875642089123, 'calmness': 0.16389071212512824, 'scarcely': 0.29178943177473937, 'opportunity': 0.14589471588736969, 'gate': 0.15893875642089123, 'sweep': 0.15893875642089123, 'passion': 0.1702748933900322, 'passed': 0.12605929378510095, 'weather': 0.13455857891822873, 'actually': 0.1414414731688842, 'speak': 0.12070747512009133, 'night': 0.13773424334937212, 'short': 0.12817439765332475, 'hand': 0.13455857891822873, 'precious': 0.16389071212512824, 'immediately': 0.12322244194908774, 'exquisite': 0.15893875642089123, 'attachment': 0.1414414731688842, 'possible': 0.12817439765332475, 'manners': 0.12931268787159717, 'soon': 0.09686206551592859, 'ready': 0.1184487345438467, 'attention': 0.13051253650358646, 'begun': 0.15893875642089123, 'making': 0.13312635335756173, 'love': 0.2290446494622737, 'elton': 0.08390841937995844, 'known': 0.13178098424403367, 'subject': 0.11067711440131771, 'carriage': 0.12412835523868247, 'having': 0.11335406584670962, 'mr': 0.061583041920599046}\n"
     ]
    }
   ],
   "source": [
    "#Applying the vectorizer\n",
    "emma_paras_tfidf=vectorizer.fit_transform(emma_paras)\n",
    "print(\"Number of features: %d\" % emma_paras_tfidf.get_shape()[1])\n",
    "\n",
    "#splitting into training and test sets\n",
    "X_train_tfidf, X_test_tfidf= train_test_split(emma_paras_tfidf, test_size=0.4, random_state=0)\n",
    "\n",
    "\n",
    "#Reshapes the vectorizer output into something people can read\n",
    "X_train_tfidf_csr = X_train_tfidf.tocsr()\n",
    "\n",
    "#number of paragraphs\n",
    "n = X_train_tfidf_csr.shape[0]\n",
    "#A list of dictionaries, one per paragraph\n",
    "tfidf_bypara = [{} for _ in range(0,n)]\n",
    "#List of features\n",
    "terms = vectorizer.get_feature_names()\n",
    "#for each paragraph, lists the feature words and their tf-idf scores\n",
    "for i, j in zip(*X_train_tfidf_csr.nonzero()):\n",
    "    tfidf_bypara[i][terms[j]] = X_train_tfidf_csr[i, j]\n",
    "\n",
    "#Keep in mind that the log base 2 of 1 is 0, so a tf-idf score of 0 indicates that the word was present once in that sentence.\n",
    "print('Original sentence:', X_train[3])\n",
    "print('Tf_idf vector:', tfidf_bypara[3])"
   ]
  },
  {
   "cell_type": "markdown",
   "metadata": {},
   "source": [
    "# Dimension reduction"
   ]
  },
  {
   "cell_type": "code",
   "execution_count": 29,
   "metadata": {},
   "outputs": [
    {
     "name": "stdout",
     "output_type": "stream",
     "text": [
      "Percent variance captured by all components: 45.19430770996884\n",
      "Component 0:\n",
      "\" Oh !     0.999291\n",
      "\" Oh !     0.999291\n",
      "\" Oh !     0.999291\n",
      "\" Oh !\"    0.999291\n",
      "\" Oh !     0.999291\n",
      "\" Oh !     0.999291\n",
      "\" Oh !     0.999291\n",
      "\" Oh !\"    0.999291\n",
      "\" Oh !     0.999291\n",
      "\" Oh !     0.999291\n",
      "Name: 0, dtype: float64\n",
      "Component 1:\n",
      "\" You have made her too tall , Emma ,\" said Mr . Knightley .                                                                                                                0.634130\n",
      "\" You get upon delicate subjects , Emma ,\" said Mrs . Weston smiling ; \" remember that I am here . Mr .                                                                     0.570671\n",
      "\" I do not know what your opinion may be , Mrs . Weston ,\" said Mr . Knightley , \" of this great intimacy between Emma and Harriet Smith , but I think it a bad thing .\"    0.564156\n",
      "\" You are right , Mrs . Weston ,\" said Mr . Knightley warmly , \" Miss Fairfax is as capable as any of us of forming a just opinion of Mrs . Elton .                         0.560167\n",
      "\" There were misunderstandings between them , Emma ; he said so expressly .                                                                                                 0.528294\n",
      "Mr . Knightley might quarrel with her , but Emma could not quarrel with herself .                                                                                           0.526821\n",
      "Emma found that it was not Mr . Weston ' s fault that the number of privy councillors was not yet larger .                                                                  0.512625\n",
      "\" In one respect , perhaps , Mr . Elton ' s manners are superior to Mr . Knightley ' s or Mr . Weston ' s .                                                                 0.503676\n",
      "\" Now ,\" said Emma , when they were fairly beyond the sweep gates , \" now Mr . Weston , do let me know what has happened .\"                                                 0.500214\n",
      "\" I do not admire it ,\" said Mr . Knightley .                                                                                                                               0.499748\n",
      "Name: 1, dtype: float64\n",
      "Component 2:\n",
      "CHAPTER I      0.998737\n",
      "CHAPTER X      0.998737\n",
      "CHAPTER I      0.998737\n",
      "CHAPTER I      0.998737\n",
      "CHAPTER V      0.998737\n",
      "CHAPTER X      0.998737\n",
      "CHAPTER X      0.998737\n",
      "CHAPTER V      0.998737\n",
      "CHAPTER V      0.998737\n",
      "CHAPTER XII    0.997752\n",
      "Name: 2, dtype: float64\n",
      "Component 3:\n",
      "\" Ah !      0.9929\n",
      "\" Ah !      0.9929\n",
      "But ah !    0.9929\n",
      "\" Ah !      0.9929\n",
      "\" Ah !      0.9929\n",
      "\" Ah !      0.9929\n",
      "\" Ah !      0.9929\n",
      "\" Ah !      0.9929\n",
      "\" Ah !\"     0.9929\n",
      "But ah !    0.9929\n",
      "Name: 3, dtype: float64\n",
      "Component 4:\n",
      "\" There were misunderstandings between them , Emma ; he said so expressly .    0.650519\n",
      "\" Are you well , my Emma ?\"                                                    0.598295\n",
      "Emma demurred .                                                                0.598295\n",
      "Emma was silenced .                                                            0.586542\n",
      "At first it was downright dulness to Emma .                                    0.585538\n",
      "\" Emma , my dear Emma \"                                                        0.576718\n",
      "Emma could not resist .                                                        0.566489\n",
      "\" It is not now worth a regret ,\" said Emma .                                  0.558538\n",
      "\" For shame , Emma !                                                           0.548435\n",
      "\" I am ready ,\" said Emma , \" whenever I am wanted .\"                          0.511642\n",
      "Name: 4, dtype: float64\n"
     ]
    }
   ],
   "source": [
    "from sklearn.decomposition import TruncatedSVD\n",
    "from sklearn.pipeline import make_pipeline\n",
    "from sklearn.preprocessing import Normalizer\n",
    "\n",
    "#Our SVD data reducer.  We are going to reduce the feature space from 1379 to 130.\n",
    "svd= TruncatedSVD(130)\n",
    "lsa = make_pipeline(svd, Normalizer(copy=False))\n",
    "# Run SVD on the training data, then project the training data.\n",
    "X_train_lsa = lsa.fit_transform(X_train_tfidf)\n",
    "\n",
    "variance_explained=svd.explained_variance_ratio_\n",
    "total_variance = variance_explained.sum()\n",
    "print(\"Percent variance captured by all components:\",total_variance*100)\n",
    "\n",
    "#Looking at what sorts of paragraphs our solution considers similar, for the first five identified topics\n",
    "paras_by_component=pd.DataFrame(X_train_lsa,index=X_train)\n",
    "for i in range(5):\n",
    "    print('Component {}:'.format(i))\n",
    "    print(paras_by_component.loc[:,i].sort_values(ascending=False)[0:10])"
   ]
  },
  {
   "cell_type": "markdown",
   "metadata": {},
   "source": [
    "# Sentence similarity"
   ]
  },
  {
   "cell_type": "code",
   "execution_count": 30,
   "metadata": {},
   "outputs": [
    {
     "data": {
      "image/png": "[encoded data removed]",
      "text/plain": [
       "<Figure size 432x288 with 2 Axes>"
      ]
     },
     "metadata": {},
     "output_type": "display_data"
    },
    {
     "name": "stdout",
     "output_type": "stream",
     "text": [
      "Key:\n",
      "0 That is _court_ .\n",
      "1 \" Yes , sir , I did indeed ; and I am very much obliged by your kind solicitude about me .\"\n",
      "2 \" How much his business engrosses him already is very plain from the circumstance of his forgetting to inquire for the book you recommended .\n",
      "3 To restrain him as much as might be , by her own manners , she was immediately preparing to speak with exquisite calmness and gravity of the weather and the night ; but scarcely had she begun , scarcely had they passed the sweep - gate and joined the other carriage , than she found her subject cut up  her hand seized  her attention demanded , and Mr . Elton actually making violent love to her : availing himself of the precious opportunity , declaring sentiments which must be already well known , hoping  fearing  adoring  ready to die if she refused him ; but flattering himself that his ardent attachment and unequalled love and unexampled passion could not fail of having some effect , and in short , very much resolved on being seriously accepted as soon as possible .\n",
      "4 Emma smiled and answered \" My visit was of use to the nervous part of her complaint , I hope ; but not even I can charm away a sore throat ; it is a most severe cold indeed .\n",
      "5 A very few minutes more , however , completed the present trial .\n",
      "6 \" I am delighted to hear you speak so stoutly on the subject ,\" replied Emma , smiling ; \" but you do not mean to deny that there was a time  and not very distant either  when you gave me reason to understand that you did care about him ?\"\n",
      "7 \" Very well ; and if he had intended to give her one , he would have told her so .\"\n",
      "8 Some laughed , and answered good - humouredly .\n",
      "9 \" There appeared such a perfectly good understanding among them all \" he began rather quickly , but checking himself , added , \" however , it is impossible for me to say on what terms they really were  how it might all be behind the scenes .\n"
     ]
    }
   ],
   "source": [
    "# Compute document similarity using LSA components\n",
    "similarity = np.asarray(np.asmatrix(X_train_lsa) * np.asmatrix(X_train_lsa).T)\n",
    "#Only taking the first 10 sentences\n",
    "sim_matrix=pd.DataFrame(similarity,index=X_train).iloc[0:10,0:10]\n",
    "#Making a plot\n",
    "ax = sns.heatmap(sim_matrix,yticklabels=range(10))\n",
    "plt.show()\n",
    "\n",
    "#Generating a key for the plot.\n",
    "print('Key:')\n",
    "for i in range(10):\n",
    "    print(i,sim_matrix.index[i])"
   ]
  },
  {
   "cell_type": "markdown",
   "metadata": {},
   "source": [
    "# Drill 0: Test set\n",
    "\n",
    "Now it's your turn: Apply our LSA model to the test set. Does it identify similar sentences for components 0 through 4?"
   ]
  },
  {
   "cell_type": "code",
   "execution_count": 31,
   "metadata": {},
   "outputs": [
    {
     "name": "stdout",
     "output_type": "stream",
     "text": [
      "Percent variance captured by all components: 49.37384492418547\n",
      "Component 0:\n",
      "\" Oh !       0.99992\n",
      "\" Oh !\"      0.99992\n",
      "\" Oh no !    0.99992\n",
      "\" Oh !       0.99992\n",
      "\" Oh !       0.99992\n",
      "\" Oh !       0.99992\n",
      "\" Oh !       0.99992\n",
      "\" Oh !       0.99992\n",
      "\" Oh !       0.99992\n",
      "\" Oh !       0.99992\n",
      "Name: 0, dtype: float64\n",
      "Component 1:\n",
      "\" Well , Mrs . Weston ,\" said Emma triumphantly when he left them , \" what do you say now to Mr . Knightley ' s marrying Jane Fairfax ?\"                                                                                                                                                                                                                                                                                                             0.613211\n",
      "After tea , Mr . and Mrs . Weston , and Mr . Elton sat down with Mr . Woodhouse to cards .                                                                                                                                                                                                                                                                                                                                                           0.597249\n",
      "Frank turned instantly to Emma , to claim her former promise ; and boasted himself an engaged man , which his father looked his most perfect approbation of  and it then appeared that Mrs . Weston was wanting _him_ to dance with Mrs . Elton himself , and that their business was to help to persuade him into it , which was done pretty soon . Mr . Weston and Mrs . Elton led the way , Mr . Frank Churchill and Miss Woodhouse followed .    0.565422\n",
      "\" Mr .                                                                                                                                                                                                                                                                                                                                                                                                                                               0.521962\n",
      "While she was gone , Mr . Knightley called , and sat some time with Mr . Woodhouse and Emma , till Mr . Woodhouse , who had previously made up his mind to walk out , was persuaded by his daughter not to defer it , and was induced by the entreaties of both , though against the scruples of his own civility , to leave Mr . Knightley for that purpose .                                                                                       0.518017\n",
      "Mr . Weston was musing .                                                                                                                                                                                                                                                                                                                                                                                                                             0.505638\n",
      "\" I think , indeed ,\" said John Knightley pleasantly , \" that Mr . Weston has some little claim .                                                                                                                                                                                                                                                                                                                                                    0.491340\n",
      "\" Mrs . Weston ' s manners ,\" said Emma , \" were always particularly good .                                                                                                                                                                                                                                                                                                                                                                          0.490458\n",
      "\" Why , to be sure ,\" said Mr . Woodhouse \" yes , certainly  I cannot deny that Mrs . Weston , poor Mrs . Weston , does come and see us pretty often  but then  she is always obliged to go away again .\"                                                                                                                                                                                                                                            0.487673\n",
      "\" It is Frank and Miss Fairfax ,\" said Mrs . Weston .                                                                                                                                                                                                                                                                                                                                                                                                0.485225\n",
      "Name: 1, dtype: float64\n",
      "Component 2:\n",
      "\" Ah !     0.996979\n",
      "\" Ah !     0.996979\n",
      "\" Ah !     0.996979\n",
      "\" Ah !     0.996979\n",
      "\" Ah !     0.996979\n",
      "\" Ah !     0.996979\n",
      "\" Ah !     0.996979\n",
      "\" Ah !\"    0.996979\n",
      "\" Ah !     0.996979\n",
      "\" Ah !     0.996979\n",
      "Name: 2, dtype: float64\n",
      "Component 3:\n",
      "\" Mr .                                                                                                                                                                                                                                                                                                                                                            0.636907\n",
      "After tea , Mr . and Mrs . Weston , and Mr . Elton sat down with Mr . Woodhouse to cards .                                                                                                                                                                                                                                                                        0.561568\n",
      "Mr . Knightley was thoughtful again .                                                                                                                                                                                                                                                                                                                             0.523768\n",
      "\" You are not vain , Mr . Knightley .                                                                                                                                                                                                                                                                                                                             0.505351\n",
      "Mr . Weston was musing .                                                                                                                                                                                                                                                                                                                                          0.500245\n",
      "Mr . Weston ' s own happiness was indisputable .                                                                                                                                                                                                                                                                                                                  0.458046\n",
      "\" And I , Mr . Knightley , am equally stout in my confidence of its not doing them any harm .                                                                                                                                                                                                                                                                     0.424599\n",
      "She meant to be very happy , in spite of the scene being laid at Mr . Cole ' s ; and without being able to forget that among the failings of Mr . Elton , even in the days of his favour , none had disturbed her more than his propensity to dine with Mr . Cole .                                                                                               0.410867\n",
      "Harriet , Mr . Elton , and Mr . Knightley , their own especial set , were the only persons invited to meet them ; the hours were to be early , as well as the numbers few ; Mr . Woodhouse ' s habits and inclination being consulted in every thing .                                                                                                            0.397734\n",
      "While she was gone , Mr . Knightley called , and sat some time with Mr . Woodhouse and Emma , till Mr . Woodhouse , who had previously made up his mind to walk out , was persuaded by his daughter not to defer it , and was induced by the entreaties of both , though against the scruples of his own civility , to leave Mr . Knightley for that purpose .    0.395033\n",
      "Name: 3, dtype: float64\n",
      "Component 4:\n",
      "\" Yes , sometimes he can .\"                                                     0.653279\n",
      "\" Yes .                                                                         0.653279\n",
      "\" Yes , do .\"                                                                   0.653279\n",
      "\" Yes I should , I am sure I should .                                           0.639075\n",
      "\" Yes , so I imagined .                                                         0.605842\n",
      "\" Yes  a good deal _nearer_ .\"                                                  0.567116\n",
      "\" Yes , our good Mrs . Elton .                                                  0.553162\n",
      "\" Yes ; but we must not rest our claims on that distinction .                   0.547050\n",
      "\" Yes , very soon .                                                             0.533849\n",
      "\" Yes , she would be , but that she thinks there will be another put - off .    0.518035\n",
      "Name: 4, dtype: float64\n"
     ]
    }
   ],
   "source": [
    "X_test_lsa = lsa.fit_transform(X_test_tfidf)\n",
    "\n",
    "variance_explained=svd.explained_variance_ratio_\n",
    "total_variance = variance_explained.sum()\n",
    "print(\"Percent variance captured by all components:\",total_variance*100)\n",
    "\n",
    "#Looking at what sorts of paragraphs our solution considers similar, for the first five identified topics\n",
    "paras_by_component=pd.DataFrame(X_test_lsa,index=X_test)\n",
    "for i in range(5):\n",
    "    print('Component {}:'.format(i))\n",
    "    print(paras_by_component.loc[:,i].sort_values(ascending=False)[0:10])"
   ]
  },
  {
   "cell_type": "markdown",
   "metadata": {},
   "source": [
    "Component 0 - \"Oh!\"s\n",
    "\n",
    "Component 1 is the same\n",
    "\n",
    "Component 2 - \"Ah!\"s\n",
    "\n",
    "Components 3 and 4 different then the previous components\n",
    "\n",
    "Variance 49% captured\n"
   ]
  },
  {
   "cell_type": "markdown",
   "metadata": {},
   "source": [
    "# Drill 1a: Tweaking tf-idf\n",
    "\n",
    "Go back up to the code where we originally translated the text from words to numbers. There are a lot of decision-points here, from the stop list to the thresholds for inclusion and exclusion, and many others as well. We also didn't integrate spaCy, and so don't have info on lemmas or Named Entities. Change things up a few times and see how that affects the results of the LSA. Write up your observations and share them with your mentor."
   ]
  },
  {
   "cell_type": "code",
   "execution_count": 34,
   "metadata": {},
   "outputs": [],
   "source": [
    "vectorizer = TfidfVectorizer(max_df=0.5, # drop words that occur in more than half the paragraphs\n",
    "                             min_df=20, ##### only use words that appear at least twemty time\n",
    "                             stop_words='english', \n",
    "                             lowercase=True, #convert everything to lower case (since Alice in Wonderland has the HABIT of CAPITALIZING WORDS for EMPHASIS)\n",
    "                             use_idf=True,#we definitely want to use inverse document frequencies in our weighting\n",
    "                             norm=u'l2', #Applies a correction factor so that longer paragraphs and shorter paragraphs get treated equally\n",
    "                             smooth_idf=True #Adds 1 to all document frequencies, as if an extra document existed that used every word once.  Prevents divide-by-zero errors\n",
    "                            )"
   ]
  },
  {
   "cell_type": "code",
   "execution_count": 35,
   "metadata": {},
   "outputs": [
    {
     "name": "stdout",
     "output_type": "stream",
     "text": [
      "Number of features: 155\n",
      "Original sentence: \" Yes , sir , I did indeed ; and I am very much obliged by your kind solicitude about me .\"\n",
      "Tf_idf vector: {'obliged': 0.4943033418343742, 'yes': 0.40598401305625287, 'kind': 0.5010380180544194, 'sir': 0.45745607503870644, 'did': 0.36129770448812815}\n"
     ]
    }
   ],
   "source": [
    "#Applying the vectorizer\n",
    "emma_paras_tfidf=vectorizer.fit_transform(emma_paras)\n",
    "print(\"Number of features: %d\" % emma_paras_tfidf.get_shape()[1])\n",
    "\n",
    "#splitting into training and test sets\n",
    "X_train_tfidf, X_test_tfidf= train_test_split(emma_paras_tfidf, test_size=0.4, random_state=0)\n",
    "\n",
    "\n",
    "#Reshapes the vectorizer output into something people can read\n",
    "X_train_tfidf_csr = X_train_tfidf.tocsr()\n",
    "\n",
    "#number of paragraphs\n",
    "n = X_train_tfidf_csr.shape[0]\n",
    "#A list of dictionaries, one per paragraph\n",
    "tfidf_bypara = [{} for _ in range(0,n)]\n",
    "#List of features\n",
    "terms = vectorizer.get_feature_names()\n",
    "#for each paragraph, lists the feature words and their tf-idf scores\n",
    "for i, j in zip(*X_train_tfidf_csr.nonzero()):\n",
    "    tfidf_bypara[i][terms[j]] = X_train_tfidf_csr[i, j]\n",
    "\n",
    "#Keep in mind that the log base 2 of 1 is 0, so a tf-idf score of 0 indicates that the word was present once in that sentence.\n",
    "print('Original sentence:', X_train[1])\n",
    "print('Tf_idf vector:', tfidf_bypara[1])"
   ]
  },
  {
   "cell_type": "markdown",
   "metadata": {},
   "source": [
    "## Dimension reduction \n",
    "\n",
    "Reducing features to 100"
   ]
  },
  {
   "cell_type": "code",
   "execution_count": 36,
   "metadata": {},
   "outputs": [
    {
     "name": "stdout",
     "output_type": "stream",
     "text": [
      "Percent variance captured by all components: 85.92651079729471\n",
      "Component 0:\n",
      "Emma was most agreeably surprized . Mr .                                                                                                                                                                                                                                                                                                                                                                                                                                                                                                                                                                                                                                                                                                                                                                                                                                                                                                         0.739733\n",
      "\" You have made her too tall , Emma ,\" said Mr . Knightley .                                                                                                                                                                                                                                                                                                                                                                                                                                                                                                                                                                                                                                                                                                                                                                                                                                                                                     0.709351\n",
      "\" My dearest Emma ,\" said he , \" for dearest you will always be , whatever the event of this hour ' s conversation , my dearest , most beloved Emma  tell me at once .                                                                                                                                                                                                                                                                                                                                                                                                                                                                                                                                                                                                                                                                                                                                                                           0.705107\n",
      "\" Emma ,\" said Mr . Knightley presently , \" I have a piece of news for you .                                                                                                                                                                                                                                                                                                                                                                                                                                                                                                                                                                                                                                                                                                                                                                                                                                                                     0.682805\n",
      "Emma found that it was not Mr . Weston ' s fault that the number of privy councillors was not yet larger .                                                                                                                                                                                                                                                                                                                                                                                                                                                                                                                                                                                                                                                                                                                                                                                                                                       0.653456\n",
      "Mrs . Weston was acting no part , feigning no feelings in all that she said to him in favour of the event . She had been extremely surprized , never more so , than when Emma first opened the affair to her ; but she saw in it only increase of happiness to all , and had no scruple in urging him to the utmost . She had such a regard for Mr . Knightley , as to think he deserved even her dearest Emma ; and it was in every respect so proper , suitable , and unexceptionable a connexion , and in one respect , one point of the highest importance , so peculiarly eligible , so singularly fortunate , that now it seemed as if Emma could not safely have attached herself to any other creature , and that she had herself been the stupidest of beings in not having thought of it , and wished it long ago . How very few of those men in a rank of life to address Emma would have renounced their own home for Hartfield !    0.649927\n",
      "Emma could not have desired a more spirited rejection of Mr . Martin ' s prose .                                                                                                                                                                                                                                                                                                                                                                                                                                                                                                                                                                                                                                                                                                                                                                                                                                                                 0.648657\n",
      "Mrs . Weston said no more ; and Emma could imagine with what surprize and mortification she must be returning to her seat .                                                                                                                                                                                                                                                                                                                                                                                                                                                                                                                                                                                                                                                                                                                                                                                                                      0.647814\n",
      "\" There were misunderstandings between them , Emma ; he said so expressly .                                                                                                                                                                                                                                                                                                                                                                                                                                                                                                                                                                                                                                                                                                                                                                                                                                                                      0.646329\n",
      "\" It is not now worth a regret ,\" said Emma .                                                                                                                                                                                                                                                                                                                                                                                                                                                                                                                                                                                                                                                                                                                                                                                                                                                                                                    0.646329\n",
      "Name: 0, dtype: float64\n",
      "Component 1:\n",
      "\" Oh !     0.996972\n",
      "\" Oh !\"    0.996972\n",
      "\" Oh !     0.996972\n",
      "\" Oh !     0.996972\n",
      "\" Oh !\"    0.996972\n",
      "\" Oh !     0.996972\n",
      "\" Oh !     0.996972\n",
      "\" Oh !     0.996972\n",
      "\" Oh !     0.996972\n",
      "\" Oh !     0.996972\n",
      "Name: 1, dtype: float64\n",
      "Component 2:\n",
      "That is _court_ .                                                                                                                    0.760696\n",
      "Emma learned to be rather glad that there had been such a meeting .                                                                  0.676508\n",
      "\" For shame , Emma !                                                                                                                 0.676508\n",
      "Emma was out of hearing .                                                                                                            0.676508\n",
      "Emma was silenced .                                                                                                                  0.676508\n",
      "Emma laughed and disclaimed .                                                                                                        0.676508\n",
      "Emma had no longer an alarm for Henry ; his interest was yet safe ; and she led off the dance with genuine spirit and enjoyment .    0.676508\n",
      "No sooner was she out of sight , than Emma exclaimed ,                                                                               0.676508\n",
      "At first it was downright dulness to Emma .                                                                                          0.676508\n",
      "There was no bearing such an \" always ;\" and to break through her dreadful gratitude , Emma made the direct inquiry of               0.676508\n",
      "Name: 2, dtype: float64\n",
      "Component 3:\n",
      "CHAPTER X      1.0\n",
      "CHAPTER XI     1.0\n",
      "CHAPTER XVI    1.0\n",
      "CHAPTER X      1.0\n",
      "CHAPTER I      1.0\n",
      "CHAPTER XIV    1.0\n",
      "CHAPTER XVI    1.0\n",
      "CHAPTER VII    1.0\n",
      "CHAPTER II     1.0\n",
      "CHAPTER II     1.0\n",
      "Name: 3, dtype: float64\n",
      "Component 4:\n",
      "\" They told me something ,\" said Harriet rather hesitatingly ;\" but it is nothing of any consequence .\"    0.850742\n",
      "Harriet kissed her hand in silent and submissive gratitude .                                               0.691738\n",
      "\" Not Harriet ' s equal !\"                                                                                 0.691738\n",
      "\" Nor , if you were , could I ever bear to part with you , my Harriet .                                    0.691738\n",
      "Harriet was silent .                                                                                       0.691738\n",
      "\" Indeed , Harriet , it would have been a severe pang to lose you ; but it must have been .                0.691738\n",
      "She now resolved to keep Harriet no longer in the dark .                                                   0.691738\n",
      "\" I am not at all surprized at you , Harriet .                                                             0.691738\n",
      "Small heart had Harriet for visiting .                                                                     0.691738\n",
      "\" Don ' t class us together , Harriet .                                                                    0.691738\n",
      "Name: 4, dtype: float64\n"
     ]
    }
   ],
   "source": [
    "from sklearn.decomposition import TruncatedSVD\n",
    "from sklearn.pipeline import make_pipeline\n",
    "from sklearn.preprocessing import Normalizer\n",
    "\n",
    "svd= TruncatedSVD(100)\n",
    "lsa = make_pipeline(svd, Normalizer(copy=False))\n",
    "# Run SVD on the training data, then project the training data.\n",
    "X_train_lsa = lsa.fit_transform(X_train_tfidf)\n",
    "\n",
    "variance_explained=svd.explained_variance_ratio_\n",
    "total_variance = variance_explained.sum()\n",
    "print(\"Percent variance captured by all components:\",total_variance*100)\n",
    "\n",
    "#Looking at what sorts of paragraphs our solution considers similar, for the first five identified topics\n",
    "paras_by_component=pd.DataFrame(X_train_lsa,index=X_train)\n",
    "for i in range(5):\n",
    "    print('Component {}:'.format(i))\n",
    "    print(paras_by_component.loc[:,i].sort_values(ascending=False)[0:10])"
   ]
  },
  {
   "cell_type": "markdown",
   "metadata": {},
   "source": [
    "## Sentence Similarity \n",
    "\n",
    "Range(7)"
   ]
  },
  {
   "cell_type": "code",
   "execution_count": 39,
   "metadata": {},
   "outputs": [
    {
     "data": {
      "image/png": "[encoded data removed]",
      "text/plain": [
       "<Figure size 432x288 with 2 Axes>"
      ]
     },
     "metadata": {},
     "output_type": "display_data"
    },
    {
     "name": "stdout",
     "output_type": "stream",
     "text": [
      "Key:\n",
      "0 That is _court_ .\n",
      "1 \" Yes , sir , I did indeed ; and I am very much obliged by your kind solicitude about me .\"\n",
      "2 \" How much his business engrosses him already is very plain from the circumstance of his forgetting to inquire for the book you recommended .\n",
      "3 To restrain him as much as might be , by her own manners , she was immediately preparing to speak with exquisite calmness and gravity of the weather and the night ; but scarcely had she begun , scarcely had they passed the sweep - gate and joined the other carriage , than she found her subject cut up  her hand seized  her attention demanded , and Mr . Elton actually making violent love to her : availing himself of the precious opportunity , declaring sentiments which must be already well known , hoping  fearing  adoring  ready to die if she refused him ; but flattering himself that his ardent attachment and unequalled love and unexampled passion could not fail of having some effect , and in short , very much resolved on being seriously accepted as soon as possible .\n",
      "4 Emma smiled and answered \" My visit was of use to the nervous part of her complaint , I hope ; but not even I can charm away a sore throat ; it is a most severe cold indeed .\n",
      "5 A very few minutes more , however , completed the present trial .\n",
      "6 \" I am delighted to hear you speak so stoutly on the subject ,\" replied Emma , smiling ; \" but you do not mean to deny that there was a time  and not very distant either  when you gave me reason to understand that you did care about him ?\"\n"
     ]
    }
   ],
   "source": [
    "# Compute document similarity using LSA components\n",
    "similarity = np.asarray(np.asmatrix(X_train_lsa) * np.asmatrix(X_train_lsa).T)\n",
    "#Only taking the first 10 sentences\n",
    "sim_matrix=pd.DataFrame(similarity,index=X_train).iloc[0:10,0:10]\n",
    "#Making a plot\n",
    "ax = sns.heatmap(sim_matrix,yticklabels=range(7))\n",
    "plt.show()\n",
    "\n",
    "#Generating a key for the plot.\n",
    "print('Key:')\n",
    "for i in range(7):\n",
    "    print(i,sim_matrix.index[i])"
   ]
  },
  {
   "cell_type": "code",
   "execution_count": 40,
   "metadata": {},
   "outputs": [
    {
     "name": "stdout",
     "output_type": "stream",
     "text": [
      "Percent variance captured by all components: 88.24127223210027\n",
      "Component 0:\n",
      "\" Well , Mrs . Weston ,\" said Emma triumphantly when he left them , \" what do you say now to Mr . Knightley ' s marrying Jane Fairfax ?\"                                                                                                  0.632428\n",
      "\" No , no ,\" said Emma , \" it will not reckon low .                                                                                                                                                                                       0.627823\n",
      "\" Very likely ,\" said Emma \" nothing more likely .                                                                                                                                                                                        0.627823\n",
      "\" Emma ,\" said she , \" this paper is worse than I expected .                                                                                                                                                                              0.627823\n",
      "\" Well ,\" said Emma , \" there is no disputing about taste . At least you admire her except her complexion .\"                                                                                                                              0.627823\n",
      "Nobody had any information to give ; and , after a few more wonderings , Emma said ,                                                                                                                                                      0.627823\n",
      "\" And you have forgotten one matter of joy to me ,\" said Emma , \" and a very considerable one  that I made the match myself .                                                                                                             0.627823\n",
      "\" He is a person I never think of from one month ' s end to another ,\" said Mr . Knightley , with a degree of vexation , which made Emma immediately talk of something else , though she could not comprehend why he should be angry .    0.604988\n",
      "In this walk Emma and Mr . Weston found all the others assembled ; and towards this view she immediately perceived Mr . Knightley and Harriet distinct from the rest , quietly leading the way .                                          0.578576\n",
      "\" Engaged since October , secretly engaged . It has hurt me , Emma , very much .                                                                                                                                                          0.563323\n",
      "Name: 0, dtype: float64\n",
      "Component 1:\n",
      "\" Oh !    0.998967\n",
      "\" Oh !    0.998967\n",
      "\" Oh !    0.998967\n",
      "\" Oh !    0.998967\n",
      "\" Oh !    0.998967\n",
      "\" Oh !    0.998967\n",
      "\" Oh !    0.998967\n",
      "\" Oh !    0.998967\n",
      "\" Oh !    0.998967\n",
      "\" Oh !    0.998967\n",
      "Name: 1, dtype: float64\n",
      "Component 2:\n",
      "Emma wondered on what , of all the medley , she would fix .                                                                                         0.719344\n",
      "\" My Emma !\"                                                                                                                                        0.719344\n",
      "It was as much as Emma could bear , without being impolite .                                                                                        0.719344\n",
      "Emma ' s courage returned , and she walked on .                                                                                                     0.719344\n",
      "Emma had done .                                                                                                                                     0.719344\n",
      "But he laughed so heartily at the recollection , that Emma could not help saying ,                                                                  0.719344\n",
      "Emma seriously hoped she would .                                                                                                                    0.719344\n",
      "\" Such an imagination has crossed me , I own , Emma ; and if it never occurred to you before , you may as well take it into consideration now .\"    0.719344\n",
      "\" Emma !\"                                                                                                                                           0.719344\n",
      "No second meeting had there yet been between him and Emma .                                                                                         0.719344\n",
      "Name: 2, dtype: float64\n",
      "Component 3:\n",
      "\" It is Frank and Miss Fairfax ,\" said Mrs . Weston .                                                                                                                                                 0.602933\n",
      "\" I should not wonder ,\" said Mrs . Weston , \" if Miss Fairfax were to have been drawn on beyond her own inclination , by her aunt ' s eagerness in accepting Mrs . Elton ' s civilities for her .    0.582994\n",
      "\" Well  if you please ,\" said Mrs . Weston rather hesitating , \" if you think she will be of any use .\"                                                                                               0.523313\n",
      "\" Well ,\" said Mrs . Weston , laughing , \" perhaps the greatest good he could do them , would be to give Jane such a respectable home .\"                                                              0.519103\n",
      "\" Colonel and Mrs . Campbell are to be in town again by midsummer ,\" said Jane .                                                                                                                      0.507930\n",
      "\" Mrs . Cole has servants to send .                                                                                                                                                                   0.470565\n",
      "\" And Mrs . Perry and the children , how are they ?                                                                                                                                                   0.470565\n",
      "They arrived . Mrs .                                                                                                                                                                                  0.470565\n",
      "Dinner was on table . Mrs .                                                                                                                                                                           0.470565\n",
      "\" Do come with me ,\" said Mrs . Weston , \" if it be not very disagreeable to you .                                                                                                                    0.465464\n",
      "Name: 3, dtype: float64\n",
      "Component 4:\n",
      "CHAPTER XIX      1.0\n",
      "CHAPTER XV       1.0\n",
      "CHAPTER XIV      1.0\n",
      "CHAPTER XVIII    1.0\n",
      "CHAPTER XII      1.0\n",
      "CHAPTER XVII     1.0\n",
      "CHAPTER VIII     1.0\n",
      "CHAPTER XV       1.0\n",
      "CHAPTER XVII     1.0\n",
      "CHAPTER VII      1.0\n",
      "Name: 4, dtype: float64\n"
     ]
    }
   ],
   "source": [
    "X_test_lsa = lsa.fit_transform(X_test_tfidf)\n",
    "\n",
    "variance_explained=svd.explained_variance_ratio_\n",
    "total_variance = variance_explained.sum()\n",
    "print(\"Percent variance captured by all components:\",total_variance*100)\n",
    "\n",
    "#Looking at what sorts of paragraphs our solution considers similar, for the first five identified topics\n",
    "paras_by_component=pd.DataFrame(X_test_lsa,index=X_test)\n",
    "for i in range(5):\n",
    "    print('Component {}:'.format(i))\n",
    "    print(paras_by_component.loc[:,i].sort_values(ascending=False)[0:10])"
   ]
  },
  {
   "cell_type": "markdown",
   "metadata": {},
   "source": [
    "### Results \n",
    "\n",
    "When changes to the hyperparameters: max_df=0.5 and min_df=20\n",
    "\n",
    "Captured 88% of the variance in the adjusted model. "
   ]
  },
  {
   "cell_type": "markdown",
   "metadata": {},
   "source": [
    "# Drill 1b: Tweaking tf-idf\n",
    "\n",
    "Made changes to max_df=0.75 and min_df=35\n",
    "Add an analyzer 'char'\n",
    "ngram_range = (7, 10) "
   ]
  },
  {
   "cell_type": "code",
   "execution_count": 58,
   "metadata": {},
   "outputs": [],
   "source": [
    "\n",
    "vectorizer = TfidfVectorizer(max_df=0.75, # drop words that occur in more than half the paragraphs\n",
    "                             min_df=35, ##### only use words that appear at least twemty time\n",
    "                             stop_words='english',\n",
    "                             analyzer = 'char',\n",
    "                             ngram_range=(7, 10),\n",
    "                             lowercase=True, #convert everything to lower case (since Alice in Wonderland has the HABIT of CAPITALIZING WORDS for EMPHASIS)\n",
    "                             use_idf=True,#we definitely want to use inverse document frequencies in our weighting\n",
    "                             norm=u'l2', #Applies a correction factor so that longer paragraphs and shorter paragraphs get treated equally\n",
    "                             smooth_idf=True #Adds 1 to all document frequencies, as if an extra document existed that used every word once.  Prevents divide-by-zero errors\n",
    "                            )"
   ]
  },
  {
   "cell_type": "code",
   "execution_count": 59,
   "metadata": {},
   "outputs": [
    {
     "name": "stdout",
     "output_type": "stream",
     "text": [
      "Number of features: 1202\n",
      "Original sentence: Emma smiled and answered \" My visit was of use to the nervous part of her complaint , I hope ; but not even I can charm away a sore throat ; it is a most severe cold indeed .\n",
      "Tf_idf vector: {' i hope ': 0.2830095484665526, 'i hope ': 0.2830095484665526, ' i hope': 0.2815470419361341, ' answer': 0.27227477008164674, ' to the ': 0.24963403101384132, 'to the ': 0.24004011164070047, ' to the': 0.2407213718887464, ' it is ': 0.23612124883885058, ' ; but ': 0.21284458778359083, 'it was ': 0.2222689838541315, ' indeed ': 0.2457429849737961, 'indeed ': 0.2457429849737961, ' indeed': 0.2457429849737961, ' of her ': 0.24353433435220914, 'of her ': 0.24353433435220914, ' of her': 0.24141120167266755}\n"
     ]
    }
   ],
   "source": [
    "#Applying the vectorizer\n",
    "emma_paras_tfidf=vectorizer.fit_transform(emma_paras)\n",
    "print(\"Number of features: %d\" % emma_paras_tfidf.get_shape()[1])\n",
    "\n",
    "#splitting into training and test sets\n",
    "X_train_tfidf, X_test_tfidf= train_test_split(emma_paras_tfidf, test_size=0.4, random_state=0)\n",
    "\n",
    "\n",
    "#Reshapes the vectorizer output into something people can read\n",
    "X_train_tfidf_csr = X_train_tfidf.tocsr()\n",
    "\n",
    "#number of paragraphs\n",
    "n = X_train_tfidf_csr.shape[0]\n",
    "#A list of dictionaries, one per paragraph\n",
    "tfidf_bypara = [{} for _ in range(0,n)]\n",
    "#List of features\n",
    "terms = vectorizer.get_feature_names()\n",
    "#for each paragraph, lists the feature words and their tf-idf scores\n",
    "for i, j in zip(*X_train_tfidf_csr.nonzero()):\n",
    "    tfidf_bypara[i][terms[j]] = X_train_tfidf_csr[i, j]\n",
    "\n",
    "#Keep in mind that the log base 2 of 1 is 0, so a tf-idf score of 0 indicates that the word was present once in that sentence.\n",
    "print('Original sentence:', X_train[4])\n",
    "print('Tf_idf vector:', tfidf_bypara[4])"
   ]
  },
  {
   "cell_type": "code",
   "execution_count": 60,
   "metadata": {},
   "outputs": [
    {
     "data": {
      "image/png": "[encoded data removed]",
      "text/plain": [
       "<Figure size 432x288 with 2 Axes>"
      ]
     },
     "metadata": {},
     "output_type": "display_data"
    },
    {
     "name": "stdout",
     "output_type": "stream",
     "text": [
      "Key:\n",
      "0 That is _court_ .\n",
      "1 \" Yes , sir , I did indeed ; and I am very much obliged by your kind solicitude about me .\"\n",
      "2 \" How much his business engrosses him already is very plain from the circumstance of his forgetting to inquire for the book you recommended .\n",
      "3 To restrain him as much as might be , by her own manners , she was immediately preparing to speak with exquisite calmness and gravity of the weather and the night ; but scarcely had she begun , scarcely had they passed the sweep - gate and joined the other carriage , than she found her subject cut up  her hand seized  her attention demanded , and Mr . Elton actually making violent love to her : availing himself of the precious opportunity , declaring sentiments which must be already well known , hoping  fearing  adoring  ready to die if she refused him ; but flattering himself that his ardent attachment and unequalled love and unexampled passion could not fail of having some effect , and in short , very much resolved on being seriously accepted as soon as possible .\n",
      "4 Emma smiled and answered \" My visit was of use to the nervous part of her complaint , I hope ; but not even I can charm away a sore throat ; it is a most severe cold indeed .\n",
      "5 A very few minutes more , however , completed the present trial .\n",
      "6 \" I am delighted to hear you speak so stoutly on the subject ,\" replied Emma , smiling ; \" but you do not mean to deny that there was a time  and not very distant either  when you gave me reason to understand that you did care about him ?\"\n"
     ]
    }
   ],
   "source": [
    "# Compute document similarity using LSA components\n",
    "similarity = np.asarray(np.asmatrix(X_train_lsa) * np.asmatrix(X_train_lsa).T)\n",
    "#Only taking the first 10 sentences\n",
    "sim_matrix=pd.DataFrame(similarity,index=X_train).iloc[0:10,0:10]\n",
    "#Making a plot\n",
    "ax = sns.heatmap(sim_matrix,yticklabels=range(7))\n",
    "plt.show()\n",
    "\n",
    "#Generating a key for the plot.\n",
    "print('Key:')\n",
    "for i in range(7):\n",
    "    print(i,sim_matrix.index[i])"
   ]
  },
  {
   "cell_type": "code",
   "execution_count": 61,
   "metadata": {},
   "outputs": [
    {
     "name": "stdout",
     "output_type": "stream",
     "text": [
      "Percent variance captured by all components: 74.11072794248456\n",
      "Component 0:\n",
      "Mr . Woodhouse could not be soon reconciled ; but the worst was overcome , the idea was given ; time and continual repetition must do the rest . To Emma ' s entreaties and assurances succeeded Mr . Knightley ' s , whose fond praise of her gave the subject even a kind of welcome ; and he was soon used to be talked to by each , on every fair occasion . They had all the assistance which Isabella could give , by letters of the strongest approbation ; and Mrs . Weston was ready , on the first meeting , to consider the subject in the most serviceable light  first , as a settled , and , secondly , as a good one  well aware of the nearly equal importance of the two recommendations to Mr . Woodhouse ' s mind . It was agreed upon , as what was to be ; and every body by whom he was used to be guided assuring him that it would be for his happiness ; and having some feelings himself which almost admitted it , he began to think that some time or other  in another year or two , perhaps  it might not be so very bad if the marriage did take place .    0.588194\n",
      "Harriet , Mr . Elton , and Mr . Knightley , their own especial set , were the only persons invited to meet them ; the hours were to be early , as well as the numbers few ; Mr . Woodhouse ' s habits and inclination being consulted in every thing .                                                                                                                                                                                                                                                                                                                                                                                                                                                                                                                                                                                                                                                                                                                                                                                                                                     0.564052\n",
      "While she was gone , Mr . Knightley called , and sat some time with Mr . Woodhouse and Emma , till Mr . Woodhouse , who had previously made up his mind to walk out , was persuaded by his daughter not to defer it , and was induced by the entreaties of both , though against the scruples of his own civility , to leave Mr . Knightley for that purpose .                                                                                                                                                                                                                                                                                                                                                                                                                                                                                                                                                                                                                                                                                                                             0.510916\n",
      "In this walk Emma and Mr . Weston found all the others assembled ; and towards this view she immediately perceived Mr . Knightley and Harriet distinct from the rest , quietly leading the way .                                                                                                                                                                                                                                                                                                                                                                                                                                                                                                                                                                                                                                                                                                                                                                                                                                                                                           0.509146\n",
      "He had frightened her a little about Mr . Elton ; but when she considered that Mr . Knightley could not have observed him as she had done , neither with the interest , nor ( she must be allowed to tell herself , in spite of Mr . Knightley ' s pretensions ) with the skill of such an observer on such a question as herself , that he had spoken it hastily and in anger , she was able to believe , that he had rather said what he wished resentfully to be true , than what he knew any thing about .                                                                                                                                                                                                                                                                                                                                                                                                                                                                                                                                                                             0.497321\n",
      "Mr . Knightley , in fact , was one of the few people who could see faults in Emma Woodhouse , and the only one who ever told her of them : and though this was not particularly agreeable to Emma herself , she knew it would be so much less so to her father , that she would not have him really suspect such a circumstance as her not being thought perfect by every body .                                                                                                                                                                                                                                                                                                                                                                                                                                                                                                                                                                                                                                                                                                           0.495206\n",
      "\" Well , Mrs . Weston ,\" said Emma triumphantly when he left them , \" what do you say now to Mr . Knightley ' s marrying Jane Fairfax ?\"                                                                                                                                                                                                                                                                                                                                                                                                                                                                                                                                                                                                                                                                                                                                                                                                                                                                                                                                                   0.492173\n",
      "Mr . Knightley looked as if he were more gratified than he cared to express ; and before he could make any reply , Mr . Woodhouse , whose thoughts were on the Bates ' s , said                                                                                                                                                                                                                                                                                                                                                                                                                                                                                                                                                                                                                                                                                                                                                                                                                                                                                                            0.486478\n",
      "\" The Churchills are very likely in fault ,\" said Mr . Knightley , coolly ; \" but I dare say he might come if he would .\"                                                                                                                                                                                                                                                                                                                                                                                                                                                                                                                                                                                                                                                                                                                                                                                                                                                                                                                                                                  0.483688\n",
      "She was the first to announce it to Mr . Knightley ; and exclaimed quite as much as was necessary , ( or , being acting a part , perhaps rather more ,) at the conduct of the Churchills , in keeping him away .                                                                                                                                                                                                                                                                                                                                                                                                                                                                                                                                                                                                                                                                                                                                                                                                                                                                           0.480752\n",
      "Name: 0, dtype: float64\n",
      "Component 1:\n",
      "CHAPTER IX      0.999952\n",
      "CHAPTER XV      0.999952\n",
      "CHAPTER XIII    0.999952\n",
      "CHAPTER XIV     0.999952\n",
      "CHAPTER XVII    0.999952\n",
      "CHAPTER XIX     0.999952\n",
      "CHAPTER XVII    0.999952\n",
      "CHAPTER VIII    0.999952\n",
      "CHAPTER VI      0.999952\n",
      "CHAPTER XV      0.999952\n",
      "Name: 1, dtype: float64\n",
      "Component 2:\n",
      "Mr . Knightley shook his head at her .                                                                                                                           0.846783\n",
      "\" Mr . Knightley I declare ! I must speak to him if possible , just to thank him .                                                                               0.843628\n",
      "Mr . Knightley returned to his reading with greater alacrity .                                                                                                   0.837958\n",
      "\" And I , Mr . Knightley , am equally stout in my confidence of its not doing them any harm .                                                                    0.830566\n",
      "\" No ,\" cried Mr . Knightley , \" that need not be the consequence .                                                                                              0.819559\n",
      "Mr . Knightley was thoughtful again .                                                                                                                            0.803697\n",
      "\" Have you any idea of Mr . Knightley ' s returning your affection ?\"                                                                                            0.796551\n",
      "Mr . Knightley had another reason for avoiding a table in the shade .                                                                                            0.785687\n",
      "High in the rank of her most serious and heartfelt felicities , was the reflection that all necessity of concealment from Mr . Knightley would soon be over .    0.750207\n",
      "\" You are not vain , Mr . Knightley .                                                                                                                            0.745650\n",
      "Name: 2, dtype: float64\n",
      "Component 3:\n",
      "\" Yes ,\" said his brother quickly , \" it is Randalls that does it all .\"                                   0.687555\n",
      "\" Upon my honour ,\" said he very seriously , \" it does not .                                               0.685494\n",
      "\" It is to be a secret , I conclude ,\" said he .                                                           0.682063\n",
      "\" Yes ,\" said he , smiling \" and reason good .                                                             0.681267\n",
      "\" Well ,\" said he , in a deliberating manner , \" for five minutes , perhaps .\"                             0.672703\n",
      "\" As soon as my aunt gets well , I shall go abroad ,\" said he .                                            0.667788\n",
      "\" They aimed at wounding more than Harriet ,\" said he .                                                    0.664071\n",
      "\" I am not fond of dinner - visiting ,\" said he \" I never was .                                            0.661422\n",
      "\" I shall hear about you all ,\" said he ; \" that is my chief consolation .                                 0.651153\n",
      "\" I cannot name a day ,\" said he , \" till I have spoken to some others whom I would wish to meet you .\"    0.644488\n",
      "Name: 3, dtype: float64\n",
      "Component 4:\n",
      "\" Mr . Elton , this is the most extraordinary conduct !                                                                                                                                                                                                                                                                                                                                                                                                                                            0.651341\n",
      "\" Only one more , papa ; only for Mr . Elton .                                                                                                                                                                                                                                                                                                                                                                                                                                                     0.650321\n",
      "Mr . Elton had retreated into the card - room , looking ( Emma trusted ) very foolish .                                                                                                                                                                                                                                                                                                                                                                                                            0.643993\n",
      "\" Mr . Elton in love with me ! What an idea !\"                                                                                                                                                                                                                                                                                                                                                                                                                                                     0.641931\n",
      "\" I never in my life saw a man more intent on being agreeable than Mr . Elton .                                                                                                                                                                                                                                                                                                                                                                                                                    0.639749\n",
      "But hardly had she so spoken , when she found her brother was civilly offering a seat in his carriage , if the weather were Mr . Elton ' s only objection , and Mr . Elton actually accepting the offer with much prompt satisfaction .                                                                                                                                                                                                                                                            0.639420\n",
      "\" Christmas weather ,\" observed Mr . Elton .                                                                                                                                                                                                                                                                                                                                                                                                                                                       0.637886\n",
      "Mr . Elton was only too happy .                                                                                                                                                                                                                                                                                                                                                                                                                                                                    0.634312\n",
      "She then repeated some warm personal praise which she had drawn from Mr . Elton , and now did full justice to ; and Harriet blushed and smiled , and said she had always thought Mr . Elton very agreeable .                                                                                                                                                                                                                                                                                       0.629632\n",
      "Before the end of September , Emma attended Harriet to church , and saw her hand bestowed on Robert Martin with so complete a satisfaction , as no remembrances , even connected with Mr . Elton as he stood before them , could impair . Perhaps , indeed , at that time she scarcely saw Mr . Elton , but as the clergyman whose blessing at the altar might next fall on herself . Robert Martin and Harriet Smith , the latest couple engaged of the three , were the first to be married .    0.628119\n",
      "Name: 4, dtype: float64\n",
      "Component 5:\n",
      "\" Have you heard from Miss Fairfax so lately ?                                                0.717843\n",
      "\" Are you expecting Miss Fairfax here soon ?\"                                                 0.717094\n",
      "\" And how did you think Miss Fairfax looking ?\"                                               0.715552\n",
      "Frank Churchill placed a word before Miss Fairfax .                                           0.715301\n",
      "\" Miss Fairfax ' s compliments and thanks , but is quite unequal to any exercise .\"           0.713849\n",
      "\" You know Miss Fairfax ' s situation in life , I conclude ; what she is destined to be ?\"    0.701165\n",
      "\" Perhaps Miss Fairfax has never been staying here so long before .\"                          0.692388\n",
      "He shook his head and laughed .\" I cannot separate Miss Fairfax and her complexion .\"         0.682065\n",
      "\" I hope Mrs . Bates and Miss Fairfax are \"                                                   0.680728\n",
      "Emma would not agree to this , and began a warm defence of Miss Fairfax ' s complexion .      0.675779\n",
      "Name: 5, dtype: float64\n",
      "Component 6:\n",
      "Mr . Woodhouse hesitated .\" Not near so often , my dear , as I could wish .\"            0.673427\n",
      "\" You will make my excuses , my dear , as civilly as possible .                         0.657529\n",
      "Now I say , my dear , in _our_ case , for _lady_ , read  mum !                          0.657148\n",
      "\" So they will , my dear .                                                              0.657148\n",
      "\" That ' s right , my dear , very right .                                               0.648669\n",
      "\" But , my dear papa , it is supposed to be summer ; a warm day in summer .             0.633408\n",
      "\" Why , pretty well , my dear , upon the whole .                                        0.630463\n",
      "\" My dear , how am I to get so far ?                                                    0.624282\n",
      "\" Middling , my dear ; I cannot compliment you .                                        0.619132\n",
      "\" That has been a good deal the case , my dear ; but not to the degree you mention .    0.613841\n",
      "Name: 6, dtype: float64\n"
     ]
    }
   ],
   "source": [
    "X_test_lsa = lsa.fit_transform(X_test_tfidf)\n",
    "\n",
    "variance_explained=svd.explained_variance_ratio_\n",
    "total_variance = variance_explained.sum()\n",
    "print(\"Percent variance captured by all components:\",total_variance*100)\n",
    "\n",
    "#Looking at what sorts of paragraphs our solution considers similar, for the first five identified topics\n",
    "paras_by_component=pd.DataFrame(X_test_lsa,index=X_test)\n",
    "for i in range(7):\n",
    "    print('Component {}:'.format(i))\n",
    "    print(paras_by_component.loc[:,i].sort_values(ascending=False)[0:10])"
   ]
  },
  {
   "cell_type": "markdown",
   "metadata": {},
   "source": [
    "# Results \n",
    "\n",
    "When changing the df ranges and adding an analyzer 'char'. The model did not do as great of a job capturing the variance. \n",
    "\n",
    "Variance = 74% \n",
    "\n"
   ]
  },
  {
   "cell_type": "code",
   "execution_count": null,
   "metadata": {},
   "outputs": [],
   "source": []
  }
 ],
 "metadata": {
  "kernelspec": {
   "display_name": "Python 3",
   "language": "python",
   "name": "python3"
  },
  "language_info": {
   "codemirror_mode": {
    "name": "ipython",
    "version": 3
   },
   "file_extension": ".py",
   "mimetype": "text/x-python",
   "name": "python",
   "nbconvert_exporter": "python",
   "pygments_lexer": "ipython3",
   "version": "3.6.5"
  }
 },
 "nbformat": 4,
 "nbformat_minor": 2
}
